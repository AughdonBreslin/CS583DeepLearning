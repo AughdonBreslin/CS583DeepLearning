{
 "cells": [
  {
   "cell_type": "markdown",
   "metadata": {},
   "source": [
    "# Assignment 2: Build a CNN for image recognition.\n",
    "\n",
    "## Due Date:  March 29, 11:59PM\n",
    "\n",
    "### Name: Aughdon Breslin\n"
   ]
  },
  {
   "cell_type": "markdown",
   "metadata": {},
   "source": [
    "## Introduction:\n",
    "\n",
    "1. In this assignment, you will build Convolutional Neural Network to classify CIFAR-10 Images.\n",
    "2. You can directly load dataset from many deep learning packages.\n",
    "3. You can use any deep learning packages such as pytorch, keras or tensorflow for this assignment."
   ]
  },
  {
   "cell_type": "markdown",
   "metadata": {},
   "source": [
    "## Requirements:\n",
    "\n",
    "1. You need to load cifar 10 data and split the entire training dataset into training and validation.\n",
    "2. You will implement a CNN model to classify cifar 10 images with provided structure.\n",
    "3. You need to plot the training and validation accuracy or loss obtained from above step.\n",
    "4. Then you can use tuned parameters to train using the entire training dataset.\n",
    "5. You should report the testing accuracy using the model with complete data.\n",
    "6. You may try to change the structure (e.g, add BN layer or dropout layer,...) and analyze your findings.\n",
    "\n",
    "## Google Colab\n",
    "\n",
    "- If you do not have GPU, the training of a CNN can be slow. Google Colab is a good option."
   ]
  },
  {
   "cell_type": "markdown",
   "metadata": {},
   "source": [
    "## Batch Normalization (BN)"
   ]
  },
  {
   "cell_type": "markdown",
   "metadata": {},
   "source": [
    "### Background:"
   ]
  },
  {
   "cell_type": "markdown",
   "metadata": {},
   "source": [
    "- Batch Normalization is a technique to speed up training and help make the model more stable.\n",
    "- In simple words, batch normalization is just another network layer that gets inserted between a hidden layer and the next hidden layer. Its job is to take the outputs from the first hidden layer and normalize them before passing them on as the input of the next hidden layer.\n",
    "\n",
    "- For more detailed information, you may refer to the original paper: https://arxiv.org/pdf/1502.03167.pdf."
   ]
  },
  {
   "cell_type": "markdown",
   "metadata": {},
   "source": [
    "### BN Algorithm:"
   ]
  },
  {
   "cell_type": "markdown",
   "metadata": {},
   "source": [
    "- Input: Values of $x$ over a mini-batch: $\\mathbf{B}$ = $\\{x_1,..., x_m\\};$\n",
    "- Output: $\\{y_i = BN_{\\gamma,\\beta}(x_i)\\}$, $\\gamma, \\beta$ are learnable parameters\n",
    "\n",
    "Normalization of the Input:\n",
    "$$\\mu_{\\mathbf{B}} = \\frac{1}{m}\\sum_{i=1}^m x_i$$\n",
    "$$\\sigma_{\\mathbf{B}}^2 = \\frac{1}{m}\\sum_{i=1}^m (x_i - \\mu_{\\mathbf{B}})^2$$\n",
    "$$\\hat{x_i} = \\frac{x_i - \\mu_{\\mathbf{B}}}{\\sqrt{\\sigma_{\\mathbf{B}}}^2 + \\epsilon}$$\n",
    "Re-scaling and Offsetting:\n",
    "$$y_i = \\gamma \\hat{x_i} + \\beta = BN_{\\gamma,\\beta}(x_i)$$\n"
   ]
  },
  {
   "cell_type": "markdown",
   "metadata": {},
   "source": [
    "### Advantages of BN:\n",
    "1. Improves gradient flow through the network.\n",
    "2. Allows use of saturating nonlinearities and higher learning rates.\n",
    "3. Makes weights easier to initialize.\n",
    "4. Act as a form of regularization and may reduce the need for dropout."
   ]
  },
  {
   "cell_type": "markdown",
   "metadata": {},
   "source": [
    "### Implementation:"
   ]
  },
  {
   "cell_type": "markdown",
   "metadata": {},
   "source": [
    "- The batch normalization layer has already been implemented in many packages. You may simply call the function to build the layer. For example: torch.nn.BatchNorm2d() using pytroch package, keras.layers.BatchNormalization() using keras package.\n",
    "- The location of BN layer: Please make sure ```BatchNormalization``` is between a ```Conv```/```Dense``` layer and an ```activation``` layer."
   ]
  },
  {
   "cell_type": "markdown",
   "metadata": {},
   "source": [
    "## 1. Data preparation"
   ]
  },
  {
   "cell_type": "markdown",
   "metadata": {},
   "source": [
    "### 1.1. Load data\n"
   ]
  },
  {
   "cell_type": "code",
   "execution_count": 1,
   "metadata": {
    "scrolled": false
   },
   "outputs": [],
   "source": [
    "import tensorflow.keras as tk\n",
    "import numpy as np\n",
    "from sklearn.model_selection import train_test_split\n",
    "\n",
    "from keras.models import Sequential\n",
    "from keras.layers import Dense, Conv2D, MaxPooling2D, Flatten, Dropout, BatchNormalization\n",
    "from tensorflow.keras.optimizers import SGD, Adam\n",
    "\n",
    "from matplotlib import pyplot as plt"
   ]
  },
  {
   "cell_type": "code",
   "execution_count": 2,
   "metadata": {
    "scrolled": false
   },
   "outputs": [
    {
     "name": "stdout",
     "output_type": "stream",
     "text": [
      "shape of x_train: (50000, 32, 32, 3)\n",
      "shape of y_train: (50000, 1)\n",
      "shape of x_test: (10000, 32, 32, 3)\n",
      "shape of y_test: (10000, 1)\n",
      "number of classes: 10\n"
     ]
    }
   ],
   "source": [
    "# Load Cifar-10 Data\n",
    "# This is just an example, you may load dataset from other packages.\n",
    "\n",
    "\n",
    "### If you can not load keras dataset, un-comment these two lines.\n",
    "import ssl\n",
    "ssl._create_default_https_context = ssl._create_unverified_context\n",
    "\n",
    "(x_train, y_train), (x_test, y_test) = tk.datasets.cifar10.load_data()\n",
    "\n",
    "print('shape of x_train: ' + str(x_train.shape))\n",
    "print('shape of y_train: ' + str(y_train.shape))\n",
    "print('shape of x_test: ' + str(x_test.shape))\n",
    "print('shape of y_test: ' + str(y_test.shape))\n",
    "print('number of classes: ' + str(np.max(y_train) - np.min(y_train) + 1))"
   ]
  },
  {
   "cell_type": "markdown",
   "metadata": {},
   "source": [
    "### 1.2. One-hot encode the labels (5 points)\n",
    "\n",
    "In the input, a label is a scalar in $\\{0, 1, \\cdots , 9\\}$. One-hot encode transform such a scalar to a $10$-dim vector. E.g., a scalar ```y_train[j]=3``` is transformed to the vector ```y_train_vec[j]=[0, 0, 0, 1, 0, 0, 0, 0, 0, 0]```.\n",
    "\n",
    "1. Implement a function ```to_one_hot``` that transforms an $n\\times 1$ array to a $n\\times 10$ matrix.\n",
    "\n",
    "2. Apply the function to ```y_train``` and ```y_test```."
   ]
  },
  {
   "cell_type": "code",
   "execution_count": 3,
   "metadata": {},
   "outputs": [
    {
     "name": "stdout",
     "output_type": "stream",
     "text": [
      "Shape of y_train before: (50000, 1)\n",
      "Shape of y_test before: (10000, 1)\n",
      "[[6]\n",
      " [9]\n",
      " [9]\n",
      " [4]\n",
      " [1]]\n",
      "[[3]\n",
      " [8]\n",
      " [8]\n",
      " [0]\n",
      " [6]]\n",
      "Shape of y_train after: (50000, 10)\n",
      "Shape of y_test after: (10000, 10)\n",
      "[[0. 0. 0. 0. 0. 0. 1. 0. 0. 0.]\n",
      " [0. 0. 0. 0. 0. 0. 0. 0. 0. 1.]\n",
      " [0. 0. 0. 0. 0. 0. 0. 0. 0. 1.]\n",
      " [0. 0. 0. 0. 1. 0. 0. 0. 0. 0.]\n",
      " [0. 1. 0. 0. 0. 0. 0. 0. 0. 0.]]\n",
      "[[0. 0. 0. 1. 0. 0. 0. 0. 0. 0.]\n",
      " [0. 0. 0. 0. 0. 0. 0. 0. 1. 0.]\n",
      " [0. 0. 0. 0. 0. 0. 0. 0. 1. 0.]\n",
      " [1. 0. 0. 0. 0. 0. 0. 0. 0. 0.]\n",
      " [0. 0. 0. 0. 0. 0. 1. 0. 0. 0.]]\n"
     ]
    }
   ],
   "source": [
    "def to_one_hot(y, num_class=10):\n",
    "    hotY = np.zeros((y.size, num_class))\n",
    "    hotY[np.arange(y.size),y[:,0]] = 1\n",
    "    return hotY\n",
    "\n",
    "print('Shape of y_train before: ' + str(y_train.shape))\n",
    "print('Shape of y_test before: ' + str(y_test.shape))\n",
    "print(y_train[:5])\n",
    "print(y_test[:5])\n",
    "\n",
    "y_train = to_one_hot(y_train)\n",
    "y_test = to_one_hot(y_test)\n",
    "\n",
    "print('Shape of y_train after: ' + str(y_train.shape))\n",
    "print('Shape of y_test after: ' + str(y_test.shape))\n",
    "\n",
    "print(y_train[:5])\n",
    "print(y_test[:5])"
   ]
  },
  {
   "cell_type": "markdown",
   "metadata": {},
   "source": [
    "#### Remark: the outputs should be\n",
    "* Shape of y_train_vec: (50000, 10)\n",
    "* Shape of y_test_vec: (10000, 10)\n",
    "* [6]\n",
    "* [0. 0. 0. 0. 0. 0. 1. 0. 0. 0.]"
   ]
  },
  {
   "cell_type": "markdown",
   "metadata": {},
   "source": [
    "### 1.3. Randomly partition the training set to training and validation sets (5 points)\n",
    "\n",
    "Randomly partition the 50K training samples to 2 sets: \n",
    "* a training set containing 40K samples: x_tr, y_tr\n",
    "* a validation set containing 10K samples: x_val, y_val\n"
   ]
  },
  {
   "cell_type": "code",
   "execution_count": 4,
   "metadata": {},
   "outputs": [
    {
     "name": "stdout",
     "output_type": "stream",
     "text": [
      "Shape of x_tr: (40000, 32, 32, 3)\n",
      "Shape of y_tr: (40000, 10)\n",
      "Shape of x_val: (10000, 32, 32, 3)\n",
      "Shape of y_val: (10000, 10)\n"
     ]
    }
   ],
   "source": [
    "x_tr, x_val, y_tr, y_val = train_test_split(x_train, y_train, test_size = 0.2, random_state = 0)\n",
    "\n",
    "print('Shape of x_tr: ' + str(x_tr.shape))\n",
    "print('Shape of y_tr: ' + str(y_tr.shape))\n",
    "print('Shape of x_val: ' + str(x_val.shape))\n",
    "print('Shape of y_val: ' + str(y_val.shape))"
   ]
  },
  {
   "cell_type": "markdown",
   "metadata": {},
   "source": [
    "## 2. Build a CNN and tune its hyper-parameters (50 points)\n",
    "\n",
    "- Build a convolutional neural network model using the below structure:\n",
    "\n",
    "- It should have a structure of: Conv - ReLU - Max Pool - ConV - ReLU - Max Pool - Dense - ReLU - Dense - Softmax\n",
    "\n",
    "- In the graph 3@32x32 means the dimension of input image, 32@30x30 means it has 32 filters and the dimension now becomes 30x30 after the convolution.\n",
    "- All convolutional layers (Conv) should have stride = 1 and no padding.\n",
    "- Max Pooling has a pool size of 2 by 2.\n",
    "\n",
    "\n"
   ]
  },
  {
   "cell_type": "markdown",
   "metadata": {},
   "source": [
    "<img src=\"network.PNG\"/>"
   ]
  },
  {
   "cell_type": "markdown",
   "metadata": {},
   "source": [
    "- You may use the validation data to tune the hyper-parameters (e.g., learning rate, and optimization algorithm)\n",
    "- Do NOT use test data for hyper-parameter tuning!!!\n",
    "- Try to achieve a validation accuracy as high as possible."
   ]
  },
  {
   "cell_type": "code",
   "execution_count": 5,
   "metadata": {
    "scrolled": false
   },
   "outputs": [
    {
     "name": "stdout",
     "output_type": "stream",
     "text": [
      "Model: \"CIFAR-10_Convolutional_Neural_Network\"\n",
      "_________________________________________________________________\n",
      "Layer (type)                 Output Shape              Param #   \n",
      "=================================================================\n",
      "conv2d (Conv2D)              (None, 30, 30, 32)        896       \n",
      "_________________________________________________________________\n",
      "max_pooling2d (MaxPooling2D) (None, 15, 15, 32)        0         \n",
      "_________________________________________________________________\n",
      "conv2d_1 (Conv2D)            (None, 12, 12, 64)        32832     \n",
      "_________________________________________________________________\n",
      "max_pooling2d_1 (MaxPooling2 (None, 6, 6, 64)          0         \n",
      "_________________________________________________________________\n",
      "flatten (Flatten)            (None, 2304)              0         \n",
      "_________________________________________________________________\n",
      "dense (Dense)                (None, 256)               590080    \n",
      "_________________________________________________________________\n",
      "dense_1 (Dense)              (None, 10)                2570      \n",
      "=================================================================\n",
      "Total params: 626,378\n",
      "Trainable params: 626,378\n",
      "Non-trainable params: 0\n",
      "_________________________________________________________________\n"
     ]
    }
   ],
   "source": [
    "# Build the model\n",
    "model = Sequential(name = \"CIFAR-10_Convolutional_Neural_Network\")\n",
    "\n",
    "# Convolutional layers and pooling\n",
    "model.add(Conv2D(32, (3,3), activation='relu', input_shape=(32,32,3)))\n",
    "model.add(MaxPooling2D((2, 2)))\n",
    "\n",
    "model.add(Conv2D(64, (4,4), activation='relu'))\n",
    "model.add(MaxPooling2D((2, 2)))\n",
    "\n",
    "# Flatten to use for dense layers\n",
    "model.add(Flatten())\n",
    "model.add(Dense(256, activation = \"relu\"))\n",
    "\n",
    "# Produce results\n",
    "model.add(Dense(10, activation = \"softmax\"))\n",
    "\n",
    "# Define model optimizer and loss function\n",
    "opt = Adam(learning_rate = 0.001)\n",
    "model.compile(optimizer=opt, loss='categorical_crossentropy', metrics=['accuracy'])\n",
    "\n",
    "# Showcase model layout\n",
    "model.summary()"
   ]
  },
  {
   "cell_type": "code",
   "execution_count": null,
   "metadata": {},
   "outputs": [],
   "source": []
  },
  {
   "cell_type": "code",
   "execution_count": 6,
   "metadata": {
    "scrolled": true
   },
   "outputs": [
    {
     "name": "stdout",
     "output_type": "stream",
     "text": [
      "Epoch 1/25\n",
      "1250/1250 [==============================] - 21s 17ms/step - loss: 1.9545 - accuracy: 0.3983 - val_loss: 1.4332 - val_accuracy: 0.4950\n",
      "Epoch 2/25\n",
      "1250/1250 [==============================] - 21s 17ms/step - loss: 1.3100 - accuracy: 0.5397 - val_loss: 1.2808 - val_accuracy: 0.5565\n",
      "Epoch 3/25\n",
      "1250/1250 [==============================] - 21s 17ms/step - loss: 1.1255 - accuracy: 0.6100 - val_loss: 1.1586 - val_accuracy: 0.6018\n",
      "Epoch 4/25\n",
      "1250/1250 [==============================] - 21s 17ms/step - loss: 0.9750 - accuracy: 0.6614 - val_loss: 1.1939 - val_accuracy: 0.6097\n",
      "Epoch 5/25\n",
      "1250/1250 [==============================] - 21s 17ms/step - loss: 0.8578 - accuracy: 0.7043 - val_loss: 1.2029 - val_accuracy: 0.6149\n",
      "Epoch 6/25\n",
      "1250/1250 [==============================] - 21s 17ms/step - loss: 0.7250 - accuracy: 0.7505 - val_loss: 1.2993 - val_accuracy: 0.5983\n",
      "Epoch 7/25\n",
      "1250/1250 [==============================] - 21s 17ms/step - loss: 0.6375 - accuracy: 0.7825 - val_loss: 1.3112 - val_accuracy: 0.6273\n",
      "Epoch 8/25\n",
      "1250/1250 [==============================] - 21s 17ms/step - loss: 0.5318 - accuracy: 0.8173 - val_loss: 1.5703 - val_accuracy: 0.6106\n",
      "Epoch 9/25\n",
      "1250/1250 [==============================] - 21s 17ms/step - loss: 0.4609 - accuracy: 0.8448 - val_loss: 1.5898 - val_accuracy: 0.6204\n",
      "Epoch 10/25\n",
      "1250/1250 [==============================] - 21s 17ms/step - loss: 0.3964 - accuracy: 0.8670 - val_loss: 1.9146 - val_accuracy: 0.6203\n",
      "Epoch 11/25\n",
      "1250/1250 [==============================] - 21s 17ms/step - loss: 0.3666 - accuracy: 0.8803 - val_loss: 2.0252 - val_accuracy: 0.6064\n",
      "Epoch 12/25\n",
      "1250/1250 [==============================] - 21s 17ms/step - loss: 0.3411 - accuracy: 0.8890 - val_loss: 2.2216 - val_accuracy: 0.6143\n",
      "Epoch 13/25\n",
      "1250/1250 [==============================] - 21s 17ms/step - loss: 0.2873 - accuracy: 0.9069 - val_loss: 2.1990 - val_accuracy: 0.6066\n",
      "Epoch 14/25\n",
      "1250/1250 [==============================] - 21s 17ms/step - loss: 0.2841 - accuracy: 0.9086 - val_loss: 2.5115 - val_accuracy: 0.6077\n",
      "Epoch 15/25\n",
      "1250/1250 [==============================] - 21s 17ms/step - loss: 0.2834 - accuracy: 0.9141 - val_loss: 2.7012 - val_accuracy: 0.5984\n",
      "Epoch 16/25\n",
      "1250/1250 [==============================] - 21s 17ms/step - loss: 0.2659 - accuracy: 0.9195 - val_loss: 2.7218 - val_accuracy: 0.6055\n",
      "Epoch 17/25\n",
      "1250/1250 [==============================] - 21s 17ms/step - loss: 0.2491 - accuracy: 0.9279 - val_loss: 2.8628 - val_accuracy: 0.6153\n",
      "Epoch 18/25\n",
      "1250/1250 [==============================] - 21s 17ms/step - loss: 0.2377 - accuracy: 0.9319 - val_loss: 2.9471 - val_accuracy: 0.6164\n",
      "Epoch 19/25\n",
      "1250/1250 [==============================] - 21s 17ms/step - loss: 0.2422 - accuracy: 0.9306 - val_loss: 3.1556 - val_accuracy: 0.6070\n",
      "Epoch 20/25\n",
      "1250/1250 [==============================] - 21s 17ms/step - loss: 0.2283 - accuracy: 0.9369 - val_loss: 3.3514 - val_accuracy: 0.5899\n",
      "Epoch 21/25\n",
      "1250/1250 [==============================] - 22s 18ms/step - loss: 0.2392 - accuracy: 0.9339 - val_loss: 3.6039 - val_accuracy: 0.5969\n",
      "Epoch 22/25\n",
      "1250/1250 [==============================] - 21s 17ms/step - loss: 0.2360 - accuracy: 0.9369 - val_loss: 3.6026 - val_accuracy: 0.6087\n",
      "Epoch 23/25\n",
      "1250/1250 [==============================] - 22s 17ms/step - loss: 0.2199 - accuracy: 0.9420 - val_loss: 3.7018 - val_accuracy: 0.6056\n",
      "Epoch 24/25\n",
      "1250/1250 [==============================] - 22s 18ms/step - loss: 0.2170 - accuracy: 0.9441 - val_loss: 4.0000 - val_accuracy: 0.6051\n",
      "Epoch 25/25\n",
      "1250/1250 [==============================] - 22s 17ms/step - loss: 0.2330 - accuracy: 0.9414 - val_loss: 3.7260 - val_accuracy: 0.6048\n"
     ]
    }
   ],
   "source": [
    "# Train the model and store model parameters/loss values\n",
    "history = model.fit(x_tr, y_tr, epochs=25, batch_size=32, validation_data=(x_val, y_val), verbose =1)"
   ]
  },
  {
   "cell_type": "markdown",
   "metadata": {},
   "source": [
    "## 3. Plot the training and validation loss curve versus epochs. (5 points)"
   ]
  },
  {
   "cell_type": "code",
   "execution_count": 7,
   "metadata": {
    "scrolled": true
   },
   "outputs": [
    {
     "data": {
      "image/png": "[encoded data removed]",
      "text/plain": [
       "<Figure size 432x288 with 2 Axes>"
      ]
     },
     "metadata": {
      "needs_background": "light"
     },
     "output_type": "display_data"
    }
   ],
   "source": [
    "# Plot the loss curve\n",
    "#Showcase some of the characteristics of the CNN\n",
    "plt.subplot(211)\n",
    "\n",
    "plt.title(\"Cross Entropy Loss\")\n",
    "plt.plot(history.history['loss'], color=\"green\")\n",
    "plt.plot(history.history['val_loss'], color=\"purple\")\n",
    "plt.xticks([])\n",
    "\n",
    "plt.subplot(212)\n",
    "plt.title(\"Classification Accuracy\")\n",
    "plt.plot(history.history[\"accuracy\"], color = \"green\")\n",
    "plt.plot(history.history[\"val_accuracy\"], color = \"purple\")\n",
    "plt.show()"
   ]
  },
  {
   "cell_type": "markdown",
   "metadata": {},
   "source": [
    "As we can see from the Classification Accuracy, the validation accuracy (in purple) flatlines at around epoch 5-6, while validation loss begins to climb after about epoch 6-7. Therefore, for the next model I will change the number of epochs from my original 25 down to 7."
   ]
  },
  {
   "cell_type": "markdown",
   "metadata": {},
   "source": [
    "## 4. Train (again) and evaluate the model (5 points)\n",
    "\n",
    "- To this end, you have found the \"best\" hyper-parameters. \n",
    "- Now, fix the hyper-parameters and train the network on the entire training set (all the 50K training samples)\n",
    "- Evaluate your model on the test set."
   ]
  },
  {
   "cell_type": "markdown",
   "metadata": {},
   "source": [
    "### Train the model on the entire training set\n",
    "\n",
    "Why? Previously, you used 40K samples for training; you wasted 10K samples for the sake of hyper-parameter tuning. Now you already know the hyper-parameters, so why not using all the 50K samples for training?"
   ]
  },
  {
   "cell_type": "code",
   "execution_count": 8,
   "metadata": {},
   "outputs": [],
   "source": [
    "#<Compile your model again (using the same hyper-parameters you tuned above)>\n",
    "model.compile(optimizer=opt, loss='categorical_crossentropy', metrics=['accuracy'])"
   ]
  },
  {
   "cell_type": "code",
   "execution_count": 9,
   "metadata": {
    "scrolled": true
   },
   "outputs": [
    {
     "name": "stdout",
     "output_type": "stream",
     "text": [
      "Epoch 1/7\n",
      "1563/1563 [==============================] - 25s 16ms/step - loss: 0.7154 - accuracy: 0.8326\n",
      "Epoch 2/7\n",
      "1563/1563 [==============================] - 25s 16ms/step - loss: 0.4008 - accuracy: 0.8884\n",
      "Epoch 3/7\n",
      "1563/1563 [==============================] - 24s 15ms/step - loss: 0.3441 - accuracy: 0.8987\n",
      "Epoch 4/7\n",
      "1563/1563 [==============================] - 24s 15ms/step - loss: 0.3103 - accuracy: 0.9095\n",
      "Epoch 5/7\n",
      "1563/1563 [==============================] - 25s 16ms/step - loss: 0.2867 - accuracy: 0.9148\n",
      "Epoch 6/7\n",
      "1563/1563 [==============================] - 24s 16ms/step - loss: 0.2849 - accuracy: 0.9196\n",
      "Epoch 7/7\n",
      "1563/1563 [==============================] - 24s 15ms/step - loss: 0.2453 - accuracy: 0.9306\n"
     ]
    }
   ],
   "source": [
    "#<Train your model on the entire training set (50K samples)>\n",
    "history = model.fit(x_train, y_train, epochs=7, batch_size=32, verbose =1)"
   ]
  },
  {
   "cell_type": "markdown",
   "metadata": {},
   "source": [
    "## 5. Evaluate the model on the test set (5 points)\n",
    "\n",
    "Do NOT used the test set until now. Make sure that your model parameters and hyper-parameters are independent of the test set."
   ]
  },
  {
   "cell_type": "code",
   "execution_count": 10,
   "metadata": {},
   "outputs": [
    {
     "name": "stdout",
     "output_type": "stream",
     "text": [
      "313/313 [==============================] - 1s 4ms/step\n"
     ]
    }
   ],
   "source": [
    "y_pred = model.predict(x_test, batch_size=32, verbose=1)"
   ]
  },
  {
   "cell_type": "code",
   "execution_count": 11,
   "metadata": {
    "scrolled": true
   },
   "outputs": [
    {
     "name": "stdout",
     "output_type": "stream",
     "text": [
      "[[3.0014786e-04 1.6123689e-11 1.4555642e-01 6.9110489e-01 6.9127949e-05\n",
      "  1.6295376e-01 1.2352505e-05 3.3039980e-06 5.2121596e-08 5.8865469e-12]\n",
      " [1.4046102e-10 9.9998212e-01 6.3757100e-13 1.6870491e-15 1.2333989e-18\n",
      "  2.7631106e-18 7.0409992e-13 4.9579217e-17 1.7871194e-05 1.3363777e-10]\n",
      " [1.6090232e-04 1.9587199e-04 6.0721057e-08 4.2835708e-07 7.2051356e-09\n",
      "  6.5438826e-08 7.4552463e-06 1.8208060e-05 9.9633551e-01 3.2814071e-03]\n",
      " [9.8685062e-01 2.9740141e-08 1.2978978e-02 6.2313644e-05 1.6691358e-05\n",
      "  4.4626699e-07 2.4398022e-07 7.6554279e-06 8.2910366e-05 2.0312284e-07]\n",
      " [6.5717956e-08 8.8818037e-09 1.6477994e-04 3.6038958e-02 9.6375239e-01\n",
      "  1.6992835e-05 2.6479011e-05 2.0685869e-07 3.2482494e-10 6.8188211e-12]]\n",
      "[[0. 0. 0. 1. 0. 0. 0. 0. 0. 0.]\n",
      " [0. 1. 0. 0. 0. 0. 0. 0. 0. 0.]\n",
      " [0. 0. 0. 0. 0. 0. 0. 0. 1. 0.]\n",
      " [1. 0. 0. 0. 0. 0. 0. 0. 0. 0.]\n",
      " [0. 0. 0. 0. 1. 0. 0. 0. 0. 0.]]\n"
     ]
    }
   ],
   "source": [
    "# Convert our predictions from likelihoods to One Hot Encodings\n",
    "print(y_pred[:5])\n",
    "y_pred_hot = np.zeros_like(y_pred)\n",
    "y_pred_hot[np.arange(len(y_pred)), y_pred.argmax(1)] = 1\n",
    "print(y_pred_hot[:5])\n"
   ]
  },
  {
   "cell_type": "code",
   "execution_count": 12,
   "metadata": {},
   "outputs": [
    {
     "name": "stdout",
     "output_type": "stream",
     "text": [
      "Accuracy 0.6058\n"
     ]
    }
   ],
   "source": [
    "count = 0\n",
    "for i in range(len(y_test)):\n",
    "    if np.array_equal(y_pred_hot[i],y_test[i]):\n",
    "        count+=1\n",
    "print(\"Accuracy\",count/len(y_test))"
   ]
  },
  {
   "cell_type": "markdown",
   "metadata": {},
   "source": [
    "## 6. Building model with new structure (25 points)\n",
    "- In this section, you can build your model with adding new layers (e.g, BN layer or dropout layer, ...).\n",
    "- If you want to regularize a ```Conv/Dense layer```, you should place a ```Dropout layer``` before the ```Conv/Dense layer```.\n",
    "- You can try to compare their loss curve and testing accuracy and analyze your findings.\n",
    "- You need to try at lease two different model structures."
   ]
  },
  {
   "cell_type": "code",
   "execution_count": 40,
   "metadata": {},
   "outputs": [
    {
     "name": "stdout",
     "output_type": "stream",
     "text": [
      "Model: \"CIFAR-10_Convolutional_Neural_Network\"\n",
      "_________________________________________________________________\n",
      "Layer (type)                 Output Shape              Param #   \n",
      "=================================================================\n",
      "conv2d_12 (Conv2D)           (None, 30, 30, 32)        896       \n",
      "_________________________________________________________________\n",
      "max_pooling2d_12 (MaxPooling (None, 15, 15, 32)        0         \n",
      "_________________________________________________________________\n",
      "dropout_8 (Dropout)          (None, 15, 15, 32)        0         \n",
      "_________________________________________________________________\n",
      "conv2d_13 (Conv2D)           (None, 12, 12, 64)        32832     \n",
      "_________________________________________________________________\n",
      "max_pooling2d_13 (MaxPooling (None, 6, 6, 64)          0         \n",
      "_________________________________________________________________\n",
      "dropout_9 (Dropout)          (None, 6, 6, 64)          0         \n",
      "_________________________________________________________________\n",
      "flatten_6 (Flatten)          (None, 2304)              0         \n",
      "_________________________________________________________________\n",
      "dense_12 (Dense)             (None, 256)               590080    \n",
      "_________________________________________________________________\n",
      "dense_13 (Dense)             (None, 10)                2570      \n",
      "=================================================================\n",
      "Total params: 626,378\n",
      "Trainable params: 626,378\n",
      "Non-trainable params: 0\n",
      "_________________________________________________________________\n"
     ]
    }
   ],
   "source": [
    "# Build the model WITH DROPOUTS\n",
    "model = Sequential(name = \"CIFAR-10_Convolutional_Neural_Network\")\n",
    "\n",
    "# Convolutional layers and pooling\n",
    "model.add(Conv2D(32, (3,3), activation='relu', input_shape=(32,32,3)))\n",
    "model.add(MaxPooling2D((2, 2)))\n",
    "model.add(Dropout(0.2))\n",
    "\n",
    "model.add(Conv2D(64, (4,4), activation='relu'))\n",
    "model.add(MaxPooling2D((2, 2)))\n",
    "model.add(Dropout(0.2))\n",
    "\n",
    "# Flatten to use for dense layers\n",
    "model.add(Flatten())\n",
    "model.add(Dense(256, activation = \"relu\"))\n",
    "\n",
    "# Produce results\n",
    "model.add(Dense(10, activation = \"softmax\"))\n",
    "\n",
    "# Define model optimizer and loss function\n",
    "opt = Adam(learning_rate = 0.001)\n",
    "model.compile(optimizer=opt, loss='categorical_crossentropy', metrics=['accuracy'])\n",
    "\n",
    "# Showcase model layout\n",
    "model.summary()"
   ]
  },
  {
   "cell_type": "code",
   "execution_count": null,
   "metadata": {},
   "outputs": [
    {
     "name": "stdout",
     "output_type": "stream",
     "text": [
      "Epoch 1/7\n",
      "1250/1250 [==============================] - 26s 20ms/step - loss: 3.1193 - accuracy: 0.1327 - val_loss: 2.0397 - val_accuracy: 0.2259\n",
      "Epoch 2/7\n",
      "1250/1250 [==============================] - 26s 21ms/step - loss: 1.7577 - accuracy: 0.3514 - val_loss: 1.5218 - val_accuracy: 0.4629\n",
      "Epoch 3/7\n",
      " 678/1250 [===============>..............] - ETA: 11s - loss: 1.4722 - accuracy: 0.4705"
     ]
    }
   ],
   "source": [
    "# Train the model and store model parameters/loss values\n",
    "history = model.fit(x_tr, y_tr, epochs=7, batch_size=32, validation_data=(x_val, y_val), verbose =1)"
   ]
  },
  {
   "cell_type": "code",
   "execution_count": null,
   "metadata": {},
   "outputs": [],
   "source": [
    "y_pred = model.predict(x_test, batch_size=32, verbose=1)"
   ]
  },
  {
   "cell_type": "code",
   "execution_count": null,
   "metadata": {},
   "outputs": [],
   "source": [
    "# Convert our predictions from likelihoods to One Hot Encodings\n",
    "print(y_pred[:5])\n",
    "y_pred_hot = np.zeros_like(y_pred)\n",
    "y_pred_hot[np.arange(len(y_pred)), y_pred.argmax(1)] = 1\n",
    "print(y_pred_hot[:5])"
   ]
  },
  {
   "cell_type": "code",
   "execution_count": null,
   "metadata": {},
   "outputs": [],
   "source": [
    "count = 0\n",
    "for i in range(len(y_test)):\n",
    "    if np.array_equal(y_pred_hot[i],y_test[i]):\n",
    "        count+=1\n",
    "print(\"Accuracy1\",count/len(y_test))"
   ]
  },
  {
   "cell_type": "code",
   "execution_count": 25,
   "metadata": {},
   "outputs": [
    {
     "name": "stdout",
     "output_type": "stream",
     "text": [
      "Model: \"CIFAR-10_Convolutional_Neural_Network\"\n",
      "_________________________________________________________________\n",
      "Layer (type)                 Output Shape              Param #   \n",
      "=================================================================\n",
      "conv2d_6 (Conv2D)            (None, 30, 30, 32)        896       \n",
      "_________________________________________________________________\n",
      "max_pooling2d_6 (MaxPooling2 (None, 15, 15, 32)        0         \n",
      "_________________________________________________________________\n",
      "dropout_4 (Dropout)          (None, 15, 15, 32)        0         \n",
      "_________________________________________________________________\n",
      "conv2d_7 (Conv2D)            (None, 12, 12, 64)        32832     \n",
      "_________________________________________________________________\n",
      "max_pooling2d_7 (MaxPooling2 (None, 6, 6, 64)          0         \n",
      "_________________________________________________________________\n",
      "flatten_3 (Flatten)          (None, 2304)              0         \n",
      "_________________________________________________________________\n",
      "dropout_5 (Dropout)          (None, 2304)              0         \n",
      "_________________________________________________________________\n",
      "dense_6 (Dense)              (None, 256)               590080    \n",
      "_________________________________________________________________\n",
      "dense_7 (Dense)              (None, 10)                2570      \n",
      "=================================================================\n",
      "Total params: 626,378\n",
      "Trainable params: 626,378\n",
      "Non-trainable params: 0\n",
      "_________________________________________________________________\n"
     ]
    }
   ],
   "source": [
    "# Build the model WITH DROPOUTS\n",
    "model = Sequential(name = \"CIFAR-10_Convolutional_Neural_Network\")\n",
    "\n",
    "# Convolutional layers and pooling\n",
    "model.add(Conv2D(32, (3,3), activation='relu', input_shape=(32,32,3)))\n",
    "model.add(MaxPooling2D((2, 2)))\n",
    "model.add(Dropout(0.2))\n",
    "\n",
    "model.add(Conv2D(64, (4,4), activation='relu'))\n",
    "model.add(MaxPooling2D((2, 2)))\n",
    "model.add(Dropout(0.2))\n",
    "\n",
    "# Flatten to use for dense layers\n",
    "model.add(Flatten())\n",
    "model.add(Dense(256, activation = \"relu\"))\n",
    "\n",
    "# Produce results\n",
    "model.add(Dense(10, activation = \"softmax\"))\n",
    "\n",
    "# Define model optimizer and loss function\n",
    "opt = Adam(learning_rate = 0.001)\n",
    "model.compile(optimizer=opt, loss='categorical_crossentropy', metrics=['accuracy'])\n",
    "\n",
    "# Showcase model layout\n",
    "model.summary()"
   ]
  },
  {
   "cell_type": "code",
   "execution_count": 26,
   "metadata": {
    "scrolled": true
   },
   "outputs": [
    {
     "name": "stdout",
     "output_type": "stream",
     "text": [
      "Epoch 1/7\n",
      "1250/1250 [==============================] - 22s 18ms/step - loss: 3.0119 - accuracy: 0.1688 - val_loss: 2.1879 - val_accuracy: 0.1944\n",
      "Epoch 2/7\n",
      "1250/1250 [==============================] - 22s 17ms/step - loss: 1.8379 - accuracy: 0.3271 - val_loss: 1.7755 - val_accuracy: 0.4165\n",
      "Epoch 3/7\n",
      "1250/1250 [==============================] - 22s 17ms/step - loss: 1.6590 - accuracy: 0.4005 - val_loss: 1.5744 - val_accuracy: 0.4546\n",
      "Epoch 4/7\n",
      "1250/1250 [==============================] - 22s 17ms/step - loss: 1.5510 - accuracy: 0.4418 - val_loss: 1.5569 - val_accuracy: 0.4755\n",
      "Epoch 5/7\n",
      "1250/1250 [==============================] - 22s 17ms/step - loss: 1.4919 - accuracy: 0.4655 - val_loss: 1.4199 - val_accuracy: 0.5191\n",
      "Epoch 6/7\n",
      "1250/1250 [==============================] - 22s 18ms/step - loss: 1.4281 - accuracy: 0.4935 - val_loss: 1.4237 - val_accuracy: 0.5351\n",
      "Epoch 7/7\n",
      "1250/1250 [==============================] - 23s 18ms/step - loss: 1.4076 - accuracy: 0.5020 - val_loss: 1.3739 - val_accuracy: 0.5307\n"
     ]
    }
   ],
   "source": [
    "# Train the model and store model parameters/loss values\n",
    "history = model.fit(x_tr, y_tr, epochs=7, batch_size=32, validation_data=(x_val, y_val), verbose =1)"
   ]
  },
  {
   "cell_type": "code",
   "execution_count": 27,
   "metadata": {},
   "outputs": [
    {
     "name": "stdout",
     "output_type": "stream",
     "text": [
      "313/313 [==============================] - 1s 5ms/step\n"
     ]
    }
   ],
   "source": [
    "y_pred = model.predict(x_test, batch_size=32, verbose=1)"
   ]
  },
  {
   "cell_type": "code",
   "execution_count": 28,
   "metadata": {},
   "outputs": [
    {
     "name": "stdout",
     "output_type": "stream",
     "text": [
      "[[3.7850305e-02 4.4211891e-02 7.7192970e-02 3.3384147e-01 6.9537506e-02\n",
      "  1.2370793e-01 7.0589870e-02 3.9921083e-02 9.1929697e-02 1.1121729e-01]\n",
      " [9.5272973e-02 2.2311054e-01 3.6321688e-03 1.9675002e-03 3.5784720e-03\n",
      "  7.7843521e-04 2.4835870e-04 7.2864810e-04 5.7912153e-01 9.1561303e-02]\n",
      " [1.3338324e-01 8.2367592e-02 5.2975167e-02 5.6806803e-02 7.6035492e-02\n",
      "  3.8927481e-02 9.9309357e-03 3.7283797e-02 4.1141471e-01 1.0087472e-01]\n",
      " [1.6111879e-01 2.6941476e-02 2.0231636e-02 5.0689308e-03 1.8824363e-02\n",
      "  2.0400302e-03 1.5928240e-03 3.6515035e-03 7.1626931e-01 4.4261172e-02]\n",
      " [3.8178298e-03 1.1831372e-02 5.5049594e-02 2.6050240e-01 1.5887552e-01\n",
      "  1.9127041e-01 2.5852901e-01 4.2369638e-02 7.6899524e-03 1.0064245e-02]]\n",
      "[[0. 0. 0. 1. 0. 0. 0. 0. 0. 0.]\n",
      " [0. 0. 0. 0. 0. 0. 0. 0. 1. 0.]\n",
      " [0. 0. 0. 0. 0. 0. 0. 0. 1. 0.]\n",
      " [0. 0. 0. 0. 0. 0. 0. 0. 1. 0.]\n",
      " [0. 0. 0. 1. 0. 0. 0. 0. 0. 0.]]\n"
     ]
    }
   ],
   "source": [
    "# Convert our predictions from likelihoods to One Hot Encodings\n",
    "print(y_pred[:5])\n",
    "y_pred_hot = np.zeros_like(y_pred)\n",
    "y_pred_hot[np.arange(len(y_pred)), y_pred.argmax(1)] = 1\n",
    "print(y_pred_hot[:5])"
   ]
  },
  {
   "cell_type": "code",
   "execution_count": 29,
   "metadata": {},
   "outputs": [
    {
     "name": "stdout",
     "output_type": "stream",
     "text": [
      "Accuracy1 0.5225\n"
     ]
    }
   ],
   "source": [
    "count = 0\n",
    "for i in range(len(y_test)):\n",
    "    if np.array_equal(y_pred_hot[i],y_test[i]):\n",
    "        count+=1\n",
    "print(\"Accuracy1\",count/len(y_test))"
   ]
  },
  {
   "cell_type": "code",
   "execution_count": null,
   "metadata": {},
   "outputs": [],
   "source": []
  }
 ],
 "metadata": {
  "kernelspec": {
   "display_name": "Python 3 (ipykernel)",
   "language": "python",
   "name": "python3"
  },
  "language_info": {
   "codemirror_mode": {
    "name": "ipython",
    "version": 3
   },
   "file_extension": ".py",
   "mimetype": "text/x-python",
   "name": "python",
   "nbconvert_exporter": "python",
   "pygments_lexer": "ipython3",
   "version": "3.9.5"
  }
 },
 "nbformat": 4,
 "nbformat_minor": 2
}
