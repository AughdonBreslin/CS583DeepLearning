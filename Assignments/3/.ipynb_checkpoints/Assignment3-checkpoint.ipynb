{
 "cells": [
  {
   "cell_type": "markdown",
   "metadata": {
    "id": "cezuUt4GvP3H"
   },
   "source": [
    "# Assignment 3: Build a seq2seq model for machine translation.\n",
    "\n",
    "### Name: Aughdon Breslin\n",
    "\n",
    "### Task: Change LSTM model to Bidirectional LSTM Model， translate English to target language and evaluate using Bleu score.\n",
    "\n",
    "### Due Date: Tuesday, April 19th, 11:59PM"
   ]
  },
  {
   "cell_type": "markdown",
   "metadata": {
    "id": "ULuIrJcKvP3L"
   },
   "source": [
    "## 0. You will do the following:\n",
    "\n",
    "1. Read and run the code. Please make sure you have installed keras or tensorflow.Running the script on colab will speed up the training process and also prevent package loading issue. \n",
    "2. Complete the code in Section 1.1, you may fill in your data directory.\n",
    "3. Directly modify the code in Section 3. Change the current LSTM layer to a Bidirectional LSTM Model.\n",
    "4. Training your model and translate English to Spanish in Section 4.2. You could try translating other languages.\n",
    "5. Complete the code in Section 5."
   ]
  },
  {
   "cell_type": "markdown",
   "metadata": {
    "id": "38BXEC1NvP3M"
   },
   "source": [
    "### Hint: \n",
    "\n",
    "To implement ```Bi-LSTM```, you will need the following code to build the encoder. Do NOT use Bi-LSTM for the decoder. But there are other codes you need to modify to make it work."
   ]
  },
  {
   "cell_type": "code",
   "execution_count": 62,
   "metadata": {
    "id": "TGHt6vGgvP3N"
   },
   "outputs": [],
   "source": [
    "import re\n",
    "import string\n",
    "from unicodedata import normalize\n",
    "import numpy\n",
    "\n",
    "from keras.layers import Input, LSTM, Bidirectional, Concatenate, Dense\n",
    "from keras.preprocessing.text import Tokenizer\n",
    "from keras.preprocessing.sequence import pad_sequences\n",
    "from tensorflow.keras.utils import to_categorical\n",
    "from keras.models import Model\n",
    "from keras.utils.vis_utils import model_to_dot, plot_model\n",
    "\n",
    "from IPython.display import SVG\n",
    "\n",
    "from sklearn.model_selection import train_test_split\n",
    "\n",
    "from nltk.translate.bleu_score import sentence_bleu"
   ]
  },
  {
   "cell_type": "markdown",
   "metadata": {
    "id": "bye_hdZ2vP3P"
   },
   "source": [
    "## 1. Data preparation (10 points)\n",
    "\n",
    "1. Download spanish-english data from http://www.manythings.org/anki/\n",
    "2. You may try to use other languages.\n",
    "3. Unzip the .ZIP file.\n",
    "4. Put the .TXT file (e.g., \"deu.txt\") in the directory \"./Data/\".\n",
    "5. Fill in your data directory in section 1.1."
   ]
  },
  {
   "cell_type": "markdown",
   "metadata": {
    "id": "Cj1OVqDsvP3Q"
   },
   "source": [
    "### 1.1. Load and clean text\n"
   ]
  },
  {
   "cell_type": "code",
   "execution_count": null,
   "metadata": {
    "id": "t1jICbpbvP3R"
   },
   "outputs": [],
   "source": [
    "# load doc into memory\n",
    "def load_doc(filename):\n",
    "    # open the file as read only\n",
    "    file = open(filename, mode='rt', encoding='utf-8')\n",
    "    # read all text\n",
    "    text = file.read()\n",
    "    # close the file\n",
    "    file.close()\n",
    "    return text\n",
    "\n",
    "\n",
    "# split a loaded document into sentences\n",
    "def to_pairs(doc):\n",
    "    lines = doc.strip().split('\\n')\n",
    "    pairs = [line.split('\\t') for line in  lines]\n",
    "    return pairs\n",
    "\n",
    "def clean_data(lines):\n",
    "    cleaned = list()\n",
    "    # prepare regex for char filtering\n",
    "    re_print = re.compile('[^%s]' % re.escape(string.printable))\n",
    "    # prepare translation table for removing punctuation\n",
    "    table = str.maketrans('', '', string.punctuation)\n",
    "    for pair in lines:\n",
    "        clean_pair = list()\n",
    "        for line in pair:\n",
    "            # normalize unicode characters\n",
    "            line = normalize('NFD', line).encode('ascii', 'ignore')\n",
    "            line = line.decode('UTF-8')\n",
    "            # tokenize on white space\n",
    "            line = line.split()\n",
    "            # convert to lowercase\n",
    "            line = [word.lower() for word in line]\n",
    "            # remove punctuation from each token\n",
    "            line = [word.translate(table) for word in line]\n",
    "            # remove non-printable chars form each token\n",
    "            line = [re_print.sub('', w) for w in line]\n",
    "            # remove tokens with numbers in them\n",
    "            line = [word for word in line if word.isalpha()]\n",
    "            # store as string\n",
    "            clean_pair.append(' '.join(line))\n",
    "        cleaned.append(clean_pair)\n",
    "    return numpy.array(cleaned)"
   ]
  },
  {
   "cell_type": "markdown",
   "metadata": {
    "id": "1s_P3fFtvP3S"
   },
   "source": [
    "#### Fill the following blanks:"
   ]
  },
  {
   "cell_type": "code",
   "execution_count": null,
   "metadata": {
    "id": "FyMlb2FwvP3T"
   },
   "outputs": [],
   "source": [
    "# e.g., filename = 'Data/deu.txt'\n",
    "filename = 'spa.txt'\n",
    "\n",
    "# e.g., n_train = 20000\n",
    "n_train = 20000"
   ]
  },
  {
   "cell_type": "code",
   "execution_count": null,
   "metadata": {
    "id": "Aq_bTykqvP3U"
   },
   "outputs": [],
   "source": [
    "# load dataset\n",
    "doc = load_doc(filename)\n",
    "\n",
    "# split into Language1-Language2 pairs\n",
    "pairs = to_pairs(doc)\n",
    "\n",
    "# clean sentences\n",
    "clean_pairs = clean_data(pairs)[0:n_train, :]"
   ]
  },
  {
   "cell_type": "code",
   "execution_count": null,
   "metadata": {
    "colab": {
     "base_uri": "https://localhost:8080/"
    },
    "id": "myKZDKvlvP3V",
    "outputId": "18e25852-7195-4306-dea2-fa36d70dfe96"
   },
   "outputs": [
    {
     "name": "stdout",
     "output_type": "stream",
     "text": [
      "[youre here] => [estas aqui]\n",
      "[youre here] => [estais aqui]\n",
      "[youre late] => [estas retrasado]\n",
      "[youre lost] => [estas perdido]\n",
      "[youre mean] => [eres mala]\n",
      "[youre mean] => [eres mezquino]\n",
      "[youre mine] => [tu eres mio]\n",
      "[youre nice] => [eres simpatico]\n",
      "[youre nuts] => [estas loco]\n",
      "[youre nuts] => [estas chiflado]\n"
     ]
    }
   ],
   "source": [
    "for i in range(3000, 3010):\n",
    "    print('[' + clean_pairs[i, 0] + '] => [' + clean_pairs[i, 1] + ']')"
   ]
  },
  {
   "cell_type": "code",
   "execution_count": null,
   "metadata": {
    "colab": {
     "base_uri": "https://localhost:8080/"
    },
    "id": "5-ouQtvVvP3W",
    "outputId": "b9b2e584-0587-4a18-ed16-78732c73dbc1"
   },
   "outputs": [
    {
     "name": "stdout",
     "output_type": "stream",
     "text": [
      "Length of input_texts:  (20000,)\n",
      "Length of target_texts: (20000,)\n"
     ]
    }
   ],
   "source": [
    "input_texts = clean_pairs[:, 0]\n",
    "target_texts = ['\\t' + text + '\\n' for text in clean_pairs[:, 1]]\n",
    "\n",
    "print('Length of input_texts:  ' + str(input_texts.shape))\n",
    "print('Length of target_texts: ' + str(input_texts.shape))"
   ]
  },
  {
   "cell_type": "code",
   "execution_count": null,
   "metadata": {
    "colab": {
     "base_uri": "https://localhost:8080/"
    },
    "id": "EMmWSJUVvP3X",
    "outputId": "28c97282-768b-4f25-b502-c8c31a5714a4"
   },
   "outputs": [
    {
     "name": "stdout",
     "output_type": "stream",
     "text": [
      "max length of input  sentences: 18\n",
      "max length of target sentences: 55\n"
     ]
    }
   ],
   "source": [
    "max_encoder_seq_length = max(len(line) for line in input_texts)\n",
    "max_decoder_seq_length = max(len(line) for line in target_texts)\n",
    "\n",
    "print('max length of input  sentences: %d' % (max_encoder_seq_length))\n",
    "print('max length of target sentences: %d' % (max_decoder_seq_length))"
   ]
  },
  {
   "cell_type": "markdown",
   "metadata": {
    "id": "2_P16ZzqvP3a"
   },
   "source": [
    "**Remark:** To this end, you have two lists of sentences: input_texts and target_texts"
   ]
  },
  {
   "cell_type": "markdown",
   "metadata": {
    "id": "gbhr8s-XvP3b"
   },
   "source": [
    "## 2. Text processing\n",
    "\n",
    "### 2.1. Convert texts to sequences\n",
    "\n",
    "- Input: A list of $n$ sentences (with max length $t$).\n",
    "- It is represented by a $n\\times t$ matrix after the tokenization and zero-padding."
   ]
  },
  {
   "cell_type": "code",
   "execution_count": null,
   "metadata": {
    "colab": {
     "base_uri": "https://localhost:8080/"
    },
    "id": "O18mfxHivP3b",
    "outputId": "12dbf4ea-f28f-4b15-8651-5e0433b31e50"
   },
   "outputs": [
    {
     "name": "stdout",
     "output_type": "stream",
     "text": [
      "shape of encoder_input_seq: (20000, 18)\n",
      "shape of input_token_index: 27\n",
      "shape of decoder_input_seq: (20000, 55)\n",
      "shape of target_token_index: 29\n"
     ]
    }
   ],
   "source": [
    "# encode and pad sequences\n",
    "def text2sequences(max_len, lines):\n",
    "    tokenizer = Tokenizer(char_level=True, filters='')\n",
    "    tokenizer.fit_on_texts(lines)\n",
    "    seqs = tokenizer.texts_to_sequences(lines)\n",
    "    seqs_pad = pad_sequences(seqs, maxlen=max_len, padding='post')\n",
    "    return seqs_pad, tokenizer.word_index\n",
    "\n",
    "\n",
    "encoder_input_seq, input_token_index = text2sequences(max_encoder_seq_length, \n",
    "                                                      input_texts)\n",
    "decoder_input_seq, target_token_index = text2sequences(max_decoder_seq_length, \n",
    "                                                       target_texts)\n",
    "\n",
    "print('shape of encoder_input_seq: ' + str(encoder_input_seq.shape))\n",
    "print('shape of input_token_index: ' + str(len(input_token_index)))\n",
    "print('shape of decoder_input_seq: ' + str(decoder_input_seq.shape))\n",
    "print('shape of target_token_index: ' + str(len(target_token_index)))"
   ]
  },
  {
   "cell_type": "code",
   "execution_count": null,
   "metadata": {
    "colab": {
     "base_uri": "https://localhost:8080/"
    },
    "id": "Gwt6SE8ovP3f",
    "outputId": "6ab9e26b-3cdd-4d27-b519-b2d6f0402ca4"
   },
   "outputs": [
    {
     "name": "stdout",
     "output_type": "stream",
     "text": [
      "num_encoder_tokens: 28\n",
      "num_decoder_tokens: 30\n"
     ]
    }
   ],
   "source": [
    "num_encoder_tokens = len(input_token_index) + 1\n",
    "num_decoder_tokens = len(target_token_index) + 1\n",
    "\n",
    "print('num_encoder_tokens: ' + str(num_encoder_tokens))\n",
    "print('num_decoder_tokens: ' + str(num_decoder_tokens))"
   ]
  },
  {
   "cell_type": "markdown",
   "metadata": {
    "id": "se8uiEBlvP3i"
   },
   "source": [
    "**Remark:** To this end, the input language and target language texts are converted to 2 matrices. \n",
    "\n",
    "- Their number of rows are both n_train.\n",
    "- Their number of columns are respective max_encoder_seq_length and max_decoder_seq_length."
   ]
  },
  {
   "cell_type": "markdown",
   "metadata": {
    "id": "muVzGjyVvP3i"
   },
   "source": [
    "The followings print a sentence and its representation as a sequence."
   ]
  },
  {
   "cell_type": "code",
   "execution_count": null,
   "metadata": {
    "colab": {
     "base_uri": "https://localhost:8080/",
     "height": 35
    },
    "id": "XsF3hbxIvP3j",
    "outputId": "27a00d82-e6b5-4736-b1d3-b993170f4e5e"
   },
   "outputs": [
    {
     "data": {
      "application/vnd.google.colaboratory.intrinsic+json": {
       "type": "string"
      },
      "text/plain": [
       "'\\tno puede ser\\n'"
      ]
     },
     "execution_count": 14,
     "metadata": {},
     "output_type": "execute_result"
    }
   ],
   "source": [
    "target_texts[100]"
   ]
  },
  {
   "cell_type": "code",
   "execution_count": null,
   "metadata": {
    "colab": {
     "base_uri": "https://localhost:8080/"
    },
    "id": "lP_b01VovP3k",
    "outputId": "cff1588f-8824-4567-a055-4dafb820a438"
   },
   "outputs": [
    {
     "data": {
      "text/plain": [
       "array([ 6,  8,  3,  1, 17, 14,  2, 15,  2,  1,  5,  2, 10,  7,  0,  0,  0,\n",
       "        0,  0,  0,  0,  0,  0,  0,  0,  0,  0,  0,  0,  0,  0,  0,  0,  0,\n",
       "        0,  0,  0,  0,  0,  0,  0,  0,  0,  0,  0,  0,  0,  0,  0,  0,  0,\n",
       "        0,  0,  0,  0], dtype=int32)"
      ]
     },
     "execution_count": 15,
     "metadata": {},
     "output_type": "execute_result"
    }
   ],
   "source": [
    "decoder_input_seq[100, :]"
   ]
  },
  {
   "cell_type": "markdown",
   "metadata": {
    "id": "lB8f4tJbvP3m"
   },
   "source": [
    "## 2.2. One-hot encode\n",
    "\n",
    "- Input: A list of $n$ sentences (with max length $t$).\n",
    "- It is represented by a $n\\times t$ matrix after the tokenization and zero-padding.\n",
    "- It is represented by a $n\\times t \\times v$ tensor ($t$ is the number of unique chars) after the one-hot encoding."
   ]
  },
  {
   "cell_type": "code",
   "execution_count": null,
   "metadata": {
    "colab": {
     "base_uri": "https://localhost:8080/"
    },
    "id": "THIFj9TuvP3m",
    "outputId": "718edde7-ce00-4f71-bf83-279e69306c9b"
   },
   "outputs": [
    {
     "name": "stdout",
     "output_type": "stream",
     "text": [
      "(20000, 18, 28)\n",
      "(20000, 55, 30)\n"
     ]
    }
   ],
   "source": [
    "# one hot encode target sequence\n",
    "def onehot_encode(sequences, max_len, vocab_size):\n",
    "    n = len(sequences)\n",
    "    data = numpy.zeros((n, max_len, vocab_size))\n",
    "    for i in range(n):\n",
    "        data[i, :, :] = to_categorical(sequences[i], num_classes=vocab_size)\n",
    "    return data\n",
    "\n",
    "encoder_input_data = onehot_encode(encoder_input_seq, max_encoder_seq_length, num_encoder_tokens)\n",
    "decoder_input_data = onehot_encode(decoder_input_seq, max_decoder_seq_length, num_decoder_tokens)\n",
    "\n",
    "decoder_target_seq = numpy.zeros(decoder_input_seq.shape)\n",
    "decoder_target_seq[:, 0:-1] = decoder_input_seq[:, 1:]\n",
    "decoder_target_data = onehot_encode(decoder_target_seq, \n",
    "                                    max_decoder_seq_length, \n",
    "                                    num_decoder_tokens)\n",
    "\n",
    "print(encoder_input_data.shape)\n",
    "print(decoder_input_data.shape)"
   ]
  },
  {
   "cell_type": "markdown",
   "metadata": {
    "id": "_FXXIgAWvP3n"
   },
   "source": [
    "## 3. Build the networks (for training) (20 points)\n",
    "\n",
    "- In this section, we have already implemented the LSTM model for you. You can run the code and see what the code is doing.  \n",
    "\n",
    "- You need to change the existing LSTM model to a Bidirectional LSTM model. Just modify the network structrue and do not change the training cell in section 3.4.\n",
    "\n",
    "- Build encoder, decoder, and connect the two modules to get \"model\". \n",
    "\n",
    "- Fit the model on the bilingual data to train the parameters in the encoder and decoder.\n",
    "\n"
   ]
  },
  {
   "cell_type": "markdown",
   "metadata": {
    "id": "O76Luk4hvP3o"
   },
   "source": [
    "### 3.1. Encoder network\n",
    "\n",
    "- Input:  one-hot encode of the input language\n",
    "\n",
    "- Return: \n",
    "\n",
    "    -- output (all the hidden states   $h_1, \\cdots , h_t$) are always discarded\n",
    "    \n",
    "    -- the final hidden state  $h_t$\n",
    "    \n",
    "    -- the final conveyor belt $c_t$"
   ]
  },
  {
   "cell_type": "code",
   "execution_count": null,
   "metadata": {
    "id": "DdzBBsBovP3p"
   },
   "outputs": [],
   "source": [
    "latent_dim = 256\n",
    "\n",
    "# inputs of the encoder network\n",
    "encoder_inputs = Input(shape=(None, num_encoder_tokens), \n",
    "                       name='encoder_inputs')\n",
    "\n",
    "# set the LSTM layer\n",
    "encoder_bilstm = Bidirectional(LSTM(latent_dim, return_state=True, \n",
    "                                  dropout=0.5, name='encoder_lstm'))\n",
    "_, forward_h, forward_c, backward_h, backward_c = encoder_bilstm(encoder_inputs)\n",
    "\n",
    "state_h = Concatenate()([forward_h, backward_h])\n",
    "state_c = Concatenate()([forward_c, backward_c])\n",
    "\n",
    "# build the encoder network model\n",
    "encoder_model = Model(inputs=encoder_inputs, \n",
    "                      outputs=[state_h, state_c],\n",
    "                      name='encoder')"
   ]
  },
  {
   "cell_type": "markdown",
   "metadata": {
    "id": "TK9l2RJvvP3p"
   },
   "source": [
    "Print a summary and save the encoder network structure to \"./encoder.pdf\""
   ]
  },
  {
   "cell_type": "code",
   "execution_count": null,
   "metadata": {
    "id": "JnwD8pnVvP3q",
    "scrolled": true
   },
   "outputs": [],
   "source": []
  },
  {
   "cell_type": "code",
   "execution_count": null,
   "metadata": {
    "colab": {
     "base_uri": "https://localhost:8080/"
    },
    "id": "TIZf8mwkvP3s",
    "outputId": "40f7dfdf-fb5f-45db-e748-d5300ed1a1b9"
   },
   "outputs": [
    {
     "name": "stdout",
     "output_type": "stream",
     "text": [
      "Model: \"encoder\"\n",
      "__________________________________________________________________________________________________\n",
      " Layer (type)                   Output Shape         Param #     Connected to                     \n",
      "==================================================================================================\n",
      " encoder_inputs (InputLayer)    [(None, None, 28)]   0           []                               \n",
      "                                                                                                  \n",
      " bidirectional (Bidirectional)  [(None, 512),        583680      ['encoder_inputs[0][0]']         \n",
      "                                 (None, 256),                                                     \n",
      "                                 (None, 256),                                                     \n",
      "                                 (None, 256),                                                     \n",
      "                                 (None, 256)]                                                     \n",
      "                                                                                                  \n",
      " concatenate (Concatenate)      (None, 512)          0           ['bidirectional[0][1]',          \n",
      "                                                                  'bidirectional[0][3]']          \n",
      "                                                                                                  \n",
      " concatenate_1 (Concatenate)    (None, 512)          0           ['bidirectional[0][2]',          \n",
      "                                                                  'bidirectional[0][4]']          \n",
      "                                                                                                  \n",
      "==================================================================================================\n",
      "Total params: 583,680\n",
      "Trainable params: 583,680\n",
      "Non-trainable params: 0\n",
      "__________________________________________________________________________________________________\n"
     ]
    }
   ],
   "source": [
    "SVG(model_to_dot(encoder_model, show_shapes=False).create(prog='dot', format='svg'))\n",
    "\n",
    "plot_model(\n",
    "    model=encoder_model, show_shapes=False,\n",
    "    to_file='encoder.pdf'\n",
    ")\n",
    "\n",
    "encoder_model.summary()"
   ]
  },
  {
   "cell_type": "markdown",
   "metadata": {
    "id": "TR8V6tOWvP3t"
   },
   "source": [
    "### 3.2. Decoder network\n",
    "\n",
    "- Inputs:  \n",
    "\n",
    "    -- one-hot encode of the target language\n",
    "    \n",
    "    -- The initial hidden state $h_t$ \n",
    "    \n",
    "    -- The initial conveyor belt $c_t$ \n",
    "\n",
    "- Return: \n",
    "\n",
    "    -- output (all the hidden states) $h_1, \\cdots , h_t$\n",
    "\n",
    "    -- the final hidden state  $h_t$ (discarded in the training and used in the prediction)\n",
    "    \n",
    "    -- the final conveyor belt $c_t$ (discarded in the training and used in the prediction)"
   ]
  },
  {
   "cell_type": "code",
   "execution_count": null,
   "metadata": {
    "id": "UGs82eJFvP3u"
   },
   "outputs": [],
   "source": [
    "# inputs of the decoder network\n",
    "decoder_input_h = Input(shape=(latent_dim*2,), name='decoder_input_h')\n",
    "decoder_input_c = Input(shape=(latent_dim*2,), name='decoder_input_c')\n",
    "decoder_input_x = Input(shape=(None, num_decoder_tokens), name='decoder_input_x')\n",
    "\n",
    "# set the LSTM layer\n",
    "decoder_lstm = LSTM(latent_dim*2, return_sequences=True, \n",
    "                    return_state=True, dropout=0.5, name='decoder_lstm')\n",
    "decoder_lstm_outputs, state_h, state_c = decoder_lstm(decoder_input_x, \n",
    "                                                      initial_state=[decoder_input_h, decoder_input_c])\n",
    "\n",
    "# set the dense layer\n",
    "decoder_dense = Dense(num_decoder_tokens, activation='softmax', name='decoder_dense')\n",
    "decoder_outputs = decoder_dense(decoder_lstm_outputs)\n",
    "\n",
    "# build the decoder network model\n",
    "decoder_model = Model(inputs=[decoder_input_x, decoder_input_h, decoder_input_c],\n",
    "                      outputs=[decoder_outputs, state_h, state_c],\n",
    "                      name='decoder')"
   ]
  },
  {
   "cell_type": "markdown",
   "metadata": {
    "id": "s4qYXYxlvP3v"
   },
   "source": [
    "Print a summary and save the encoder network structure to \"./decoder.pdf\""
   ]
  },
  {
   "cell_type": "code",
   "execution_count": null,
   "metadata": {
    "colab": {
     "base_uri": "https://localhost:8080/"
    },
    "id": "rutWtKqOvP3w",
    "outputId": "3529ac6f-cab5-4afa-eda6-d81283ed406a"
   },
   "outputs": [
    {
     "name": "stdout",
     "output_type": "stream",
     "text": [
      "Model: \"decoder\"\n",
      "__________________________________________________________________________________________________\n",
      " Layer (type)                   Output Shape         Param #     Connected to                     \n",
      "==================================================================================================\n",
      " decoder_input_x (InputLayer)   [(None, None, 30)]   0           []                               \n",
      "                                                                                                  \n",
      " decoder_input_h (InputLayer)   [(None, 512)]        0           []                               \n",
      "                                                                                                  \n",
      " decoder_input_c (InputLayer)   [(None, 512)]        0           []                               \n",
      "                                                                                                  \n",
      " decoder_lstm (LSTM)            [(None, None, 512),  1112064     ['decoder_input_x[0][0]',        \n",
      "                                 (None, 512),                     'decoder_input_h[0][0]',        \n",
      "                                 (None, 512)]                     'decoder_input_c[0][0]']        \n",
      "                                                                                                  \n",
      " decoder_dense (Dense)          (None, None, 30)     15390       ['decoder_lstm[0][0]']           \n",
      "                                                                                                  \n",
      "==================================================================================================\n",
      "Total params: 1,127,454\n",
      "Trainable params: 1,127,454\n",
      "Non-trainable params: 0\n",
      "__________________________________________________________________________________________________\n"
     ]
    }
   ],
   "source": [
    "SVG(model_to_dot(decoder_model, show_shapes=False).create(prog='dot', format='svg'))\n",
    "\n",
    "plot_model(\n",
    "    model=decoder_model, show_shapes=False,\n",
    "    to_file='decoder.pdf'\n",
    ")\n",
    "\n",
    "decoder_model.summary()"
   ]
  },
  {
   "cell_type": "markdown",
   "metadata": {
    "id": "WKjzAsdivP3x"
   },
   "source": [
    "### 3.3. Connect the encoder and decoder"
   ]
  },
  {
   "cell_type": "code",
   "execution_count": null,
   "metadata": {
    "id": "XYVOblhDvP3y",
    "scrolled": false
   },
   "outputs": [],
   "source": [
    "# input layers\n",
    "encoder_input_x = Input(shape=(None, num_encoder_tokens), name='encoder_input_x')\n",
    "decoder_input_x = Input(shape=(None, num_decoder_tokens), name='decoder_input_x')\n",
    "\n",
    "# connect encoder to decoder\n",
    "encoder_final_states = encoder_model([encoder_input_x])\n",
    "decoder_lstm_output, _, _ = decoder_lstm(decoder_input_x, initial_state=encoder_final_states)\n",
    "decoder_pred = decoder_dense(decoder_lstm_output)\n",
    "\n",
    "model = Model(inputs=[encoder_input_x, decoder_input_x], \n",
    "              outputs=decoder_pred, \n",
    "              name='model_training')"
   ]
  },
  {
   "cell_type": "code",
   "execution_count": null,
   "metadata": {
    "colab": {
     "base_uri": "https://localhost:8080/"
    },
    "id": "e_Sv909pvP3y",
    "outputId": "a35f6678-991b-4626-c68a-a4f507872355"
   },
   "outputs": [
    {
     "name": "stdout",
     "output_type": "stream",
     "text": [
      "Model: \"model_training\"\n",
      "__________________________________________________________________________________________________\n",
      " Layer (type)                   Output Shape         Param #     Connected to                     \n",
      "==================================================================================================\n",
      " encoder_input_x (InputLayer)   [(None, None, 28)]   0           []                               \n",
      "                                                                                                  \n",
      " decoder_input_x (InputLayer)   [(None, None, 30)]   0           []                               \n",
      "                                                                                                  \n",
      " encoder (Functional)           [(None, 512),        583680      ['encoder_input_x[0][0]']        \n",
      "                                 (None, 512)]                                                     \n",
      "                                                                                                  \n",
      " decoder_lstm (LSTM)            [(None, None, 512),  1112064     ['decoder_input_x[0][0]',        \n",
      "                                 (None, 512),                     'encoder[0][0]',                \n",
      "                                 (None, 512)]                     'encoder[0][1]']                \n",
      "                                                                                                  \n",
      " decoder_dense (Dense)          (None, None, 30)     15390       ['decoder_lstm[1][0]']           \n",
      "                                                                                                  \n",
      "==================================================================================================\n",
      "Total params: 1,711,134\n",
      "Trainable params: 1,711,134\n",
      "Non-trainable params: 0\n",
      "__________________________________________________________________________________________________\n"
     ]
    }
   ],
   "source": [
    "SVG(model_to_dot(model, show_shapes=False).create(prog='dot', format='svg'))\n",
    "\n",
    "plot_model(\n",
    "    model=model, show_shapes=False,\n",
    "    to_file='model_training.pdf'\n",
    ")\n",
    "\n",
    "model.summary()"
   ]
  },
  {
   "cell_type": "markdown",
   "metadata": {
    "id": "g-9Bbj3fvP30"
   },
   "source": [
    "### 3.4. Fit the model on the bilingual dataset\n",
    "\n",
    "- encoder_input_data: one-hot encode of the input language\n",
    "\n",
    "- decoder_input_data: one-hot encode of the input language\n",
    "\n",
    "- decoder_target_data: labels (left shift of decoder_input_data)\n",
    "\n",
    "- tune the hyper-parameters\n",
    "\n",
    "- stop when the validation loss stop decreasing."
   ]
  },
  {
   "cell_type": "code",
   "execution_count": null,
   "metadata": {
    "colab": {
     "base_uri": "https://localhost:8080/"
    },
    "id": "1Vas3rr9vP30",
    "outputId": "9029e6bc-46ac-4c25-ee32-414e41301eef"
   },
   "outputs": [
    {
     "name": "stdout",
     "output_type": "stream",
     "text": [
      "shape of encoder_input_data(20000, 18, 28)\n",
      "shape of decoder_input_data(20000, 55, 30)\n",
      "shape of decoder_target_data(20000, 55, 30)\n"
     ]
    }
   ],
   "source": [
    "print('shape of encoder_input_data' + str(encoder_input_data.shape))\n",
    "print('shape of decoder_input_data' + str(decoder_input_data.shape))\n",
    "print('shape of decoder_target_data' + str(decoder_target_data.shape))"
   ]
  },
  {
   "cell_type": "code",
   "execution_count": null,
   "metadata": {
    "colab": {
     "base_uri": "https://localhost:8080/"
    },
    "id": "VuFeHtsHvP31",
    "outputId": "6fa6d1a5-1fec-49fa-92cb-785f8df5cf1d"
   },
   "outputs": [
    {
     "name": "stdout",
     "output_type": "stream",
     "text": [
      "Epoch 1/50\n",
      "250/250 [==============================] - 30s 82ms/step - loss: 0.9239 - val_loss: 0.8231\n",
      "Epoch 2/50\n",
      "250/250 [==============================] - 19s 75ms/step - loss: 0.7132 - val_loss: 0.7225\n",
      "Epoch 3/50\n",
      "250/250 [==============================] - 19s 76ms/step - loss: 0.6730 - val_loss: 0.6748\n",
      "Epoch 4/50\n",
      "250/250 [==============================] - 19s 75ms/step - loss: 0.6434 - val_loss: 0.6417\n",
      "Epoch 5/50\n",
      "250/250 [==============================] - 19s 75ms/step - loss: 0.6216 - val_loss: 0.6107\n",
      "Epoch 6/50\n",
      "250/250 [==============================] - 19s 75ms/step - loss: 0.6033 - val_loss: 0.5874\n",
      "Epoch 7/50\n",
      "250/250 [==============================] - 19s 75ms/step - loss: 0.5873 - val_loss: 0.5749\n",
      "Epoch 8/50\n",
      "250/250 [==============================] - 19s 75ms/step - loss: 0.5726 - val_loss: 0.5553\n",
      "Epoch 9/50\n",
      "250/250 [==============================] - 19s 75ms/step - loss: 0.5618 - val_loss: 0.5458\n",
      "Epoch 10/50\n",
      "250/250 [==============================] - 19s 76ms/step - loss: 0.5511 - val_loss: 0.5302\n",
      "Epoch 11/50\n",
      "250/250 [==============================] - 19s 76ms/step - loss: 0.5411 - val_loss: 0.5240\n",
      "Epoch 12/50\n",
      "250/250 [==============================] - 19s 75ms/step - loss: 0.5319 - val_loss: 0.5124\n",
      "Epoch 13/50\n",
      "250/250 [==============================] - 19s 76ms/step - loss: 0.5237 - val_loss: 0.5051\n",
      "Epoch 14/50\n",
      "250/250 [==============================] - 19s 75ms/step - loss: 0.5153 - val_loss: 0.5010\n",
      "Epoch 15/50\n",
      "250/250 [==============================] - 19s 76ms/step - loss: 0.5087 - val_loss: 0.4945\n",
      "Epoch 16/50\n",
      "250/250 [==============================] - 19s 75ms/step - loss: 0.5018 - val_loss: 0.4842\n",
      "Epoch 17/50\n",
      "250/250 [==============================] - 19s 76ms/step - loss: 0.4965 - val_loss: 0.4819\n",
      "Epoch 18/50\n",
      "250/250 [==============================] - 19s 75ms/step - loss: 0.4886 - val_loss: 0.4761\n",
      "Epoch 19/50\n",
      "250/250 [==============================] - 19s 75ms/step - loss: 0.4829 - val_loss: 0.4697\n",
      "Epoch 20/50\n",
      "250/250 [==============================] - 19s 75ms/step - loss: 0.4770 - val_loss: 0.4641\n",
      "Epoch 21/50\n",
      "250/250 [==============================] - 19s 76ms/step - loss: 0.4727 - val_loss: 0.4622\n",
      "Epoch 22/50\n",
      "250/250 [==============================] - 19s 76ms/step - loss: 0.4679 - val_loss: 0.4590\n",
      "Epoch 23/50\n",
      "250/250 [==============================] - 19s 76ms/step - loss: 0.4621 - val_loss: 0.4640\n",
      "Epoch 24/50\n",
      "250/250 [==============================] - 19s 76ms/step - loss: 0.4589 - val_loss: 0.4568\n",
      "Epoch 25/50\n",
      "250/250 [==============================] - 19s 76ms/step - loss: 0.4521 - val_loss: 0.4515\n",
      "Epoch 26/50\n",
      "250/250 [==============================] - 19s 76ms/step - loss: 0.4500 - val_loss: 0.4478\n",
      "Epoch 27/50\n",
      "250/250 [==============================] - 19s 76ms/step - loss: 0.4449 - val_loss: 0.4494\n",
      "Epoch 28/50\n",
      "250/250 [==============================] - 19s 76ms/step - loss: 0.4421 - val_loss: 0.4484\n",
      "Epoch 29/50\n",
      "250/250 [==============================] - 19s 76ms/step - loss: 0.4378 - val_loss: 0.4446\n",
      "Epoch 30/50\n",
      "250/250 [==============================] - 19s 76ms/step - loss: 0.4353 - val_loss: 0.4397\n",
      "Epoch 31/50\n",
      "250/250 [==============================] - 19s 76ms/step - loss: 0.4315 - val_loss: 0.4416\n",
      "Epoch 32/50\n",
      "250/250 [==============================] - 19s 76ms/step - loss: 0.4273 - val_loss: 0.4370\n",
      "Epoch 33/50\n",
      "250/250 [==============================] - 19s 76ms/step - loss: 0.4235 - val_loss: 0.4380\n",
      "Epoch 34/50\n",
      "250/250 [==============================] - 19s 76ms/step - loss: 0.4190 - val_loss: 0.4366\n",
      "Epoch 35/50\n",
      "250/250 [==============================] - 19s 76ms/step - loss: 0.4186 - val_loss: 0.4360\n",
      "Epoch 36/50\n",
      "250/250 [==============================] - 19s 75ms/step - loss: 0.4162 - val_loss: 0.4312\n",
      "Epoch 37/50\n",
      "250/250 [==============================] - 19s 75ms/step - loss: 0.4116 - val_loss: 0.4349\n",
      "Epoch 38/50\n",
      "250/250 [==============================] - 19s 75ms/step - loss: 0.4110 - val_loss: 0.4345\n",
      "Epoch 39/50\n",
      "250/250 [==============================] - 19s 75ms/step - loss: 0.4059 - val_loss: 0.4332\n",
      "Epoch 40/50\n",
      "250/250 [==============================] - 19s 75ms/step - loss: 0.4051 - val_loss: 0.4318\n",
      "Epoch 41/50\n",
      "250/250 [==============================] - 19s 75ms/step - loss: 0.4033 - val_loss: 0.4342\n",
      "Epoch 42/50\n",
      "250/250 [==============================] - 19s 75ms/step - loss: 0.3990 - val_loss: 0.4290\n",
      "Epoch 43/50\n",
      "250/250 [==============================] - 19s 75ms/step - loss: 0.3969 - val_loss: 0.4316\n",
      "Epoch 44/50\n",
      "250/250 [==============================] - 19s 75ms/step - loss: 0.3944 - val_loss: 0.4303\n",
      "Epoch 45/50\n",
      "250/250 [==============================] - 19s 76ms/step - loss: 0.3925 - val_loss: 0.4277\n",
      "Epoch 46/50\n",
      "250/250 [==============================] - 19s 76ms/step - loss: 0.3893 - val_loss: 0.4295\n",
      "Epoch 47/50\n",
      "250/250 [==============================] - 19s 76ms/step - loss: 0.3890 - val_loss: 0.4319\n",
      "Epoch 48/50\n",
      "250/250 [==============================] - 19s 76ms/step - loss: 0.3851 - val_loss: 0.4288\n",
      "Epoch 49/50\n",
      "250/250 [==============================] - 19s 76ms/step - loss: 0.3838 - val_loss: 0.4311\n",
      "Epoch 50/50\n",
      "250/250 [==============================] - 19s 76ms/step - loss: 0.3842 - val_loss: 0.4279\n"
     ]
    }
   ],
   "source": [
    "model.compile(optimizer='rmsprop', loss='categorical_crossentropy')\n",
    "\n",
    "model.fit([encoder_input_data, decoder_input_data],  # training data\n",
    "          decoder_target_data,                       # labels (left shift of the target sequences)\n",
    "          batch_size=64, epochs=50, validation_split=0.2)\n",
    "\n",
    "model.save('seq2seq.h5')"
   ]
  },
  {
   "cell_type": "markdown",
   "metadata": {
    "id": "VpY1O3FAvP32"
   },
   "source": [
    "## 4. Make predictions\n",
    "\n",
    "- In this section, you need to complete section 4.2 to translate English to the target language.\n",
    "\n",
    "\n",
    "### 4.1. Translate English to XXX\n",
    "\n",
    "1. Encoder read a sentence (source language) and output its final states, $h_t$ and $c_t$.\n",
    "2. Take the [star] sign \"\\t\" and the final state $h_t$ and $c_t$ as input and run the decoder.\n",
    "3. Get the new states and predicted probability distribution.\n",
    "4. sample a char from the predicted probability distribution\n",
    "5. take the sampled char and the new states as input and repeat the process (stop if reach the [stop] sign \"\\n\")."
   ]
  },
  {
   "cell_type": "code",
   "execution_count": null,
   "metadata": {
    "id": "G8LjKP1ZvP32"
   },
   "outputs": [],
   "source": [
    "# Reverse-lookup token index to decode sequences back to something readable.\n",
    "reverse_input_char_index = dict((i, char) for char, i in input_token_index.items())\n",
    "reverse_target_char_index = dict((i, char) for char, i in target_token_index.items())"
   ]
  },
  {
   "cell_type": "code",
   "execution_count": null,
   "metadata": {
    "id": "KwcoNcPzvP32"
   },
   "outputs": [],
   "source": [
    "def decode_sequence(input_seq):\n",
    "    states_value = encoder_model.predict(input_seq)\n",
    "\n",
    "    target_seq = numpy.zeros((1, 1, num_decoder_tokens))\n",
    "    target_seq[0, 0, target_token_index['\\t']] = 1.\n",
    "\n",
    "    stop_condition = False\n",
    "    decoded_sentence = ''\n",
    "    while not stop_condition:\n",
    "        output_tokens, h, c = decoder_model.predict([target_seq] + states_value)\n",
    "\n",
    "        # this line of code is greedy selection\n",
    "        # try to use multinomial sampling instead (with temperature)\n",
    "        sampled_token_index = numpy.argmax(output_tokens[0, -1, :])\n",
    "        \n",
    "        sampled_char = reverse_target_char_index[sampled_token_index]\n",
    "        decoded_sentence += sampled_char\n",
    "\n",
    "        if (sampled_char == '\\n' or\n",
    "           len(decoded_sentence) > max_decoder_seq_length):\n",
    "            stop_condition = True\n",
    "\n",
    "        target_seq = numpy.zeros((1, 1, num_decoder_tokens))\n",
    "        target_seq[0, 0, sampled_token_index] = 1.\n",
    "\n",
    "        states_value = [h, c]\n",
    "\n",
    "    return decoded_sentence\n"
   ]
  },
  {
   "cell_type": "code",
   "execution_count": 32,
   "metadata": {
    "colab": {
     "base_uri": "https://localhost:8080/"
    },
    "id": "eQ9r_1JdvP34",
    "outputId": "b8e10459-ac34-4ef0-8bb3-55f87bae76cf"
   },
   "outputs": [
    {
     "name": "stdout",
     "output_type": "stream",
     "text": [
      "-\n",
      "English:        hes skinny\n",
      "Spanish (true):  el esta delgado\n",
      "Spanish (pred):  el esta mintiendo\n",
      "-\n",
      "English:        hes strong\n",
      "Spanish (true):  el es fuerte\n",
      "Spanish (pred):  el esta enfermo\n",
      "-\n",
      "English:        hes stupid\n",
      "Spanish (true):  el es estupido\n",
      "Spanish (pred):  el es amogado\n",
      "-\n",
      "English:        hes stupid\n",
      "Spanish (true):  no le llega agua al tanque\n",
      "Spanish (pred):  el es amogado\n",
      "-\n",
      "English:        hes stupid\n",
      "Spanish (true):  es un salame\n",
      "Spanish (pred):  el es amogado\n",
      "-\n",
      "English:        help me out\n",
      "Spanish (true):  ayudame\n",
      "Spanish (pred):  ayudame a tom\n",
      "-\n",
      "English:        help me out\n",
      "Spanish (true):  ayudame a salir\n",
      "Spanish (pred):  ayudame a tom\n",
      "-\n",
      "English:        help me out\n",
      "Spanish (true):  echeme la mano\n",
      "Spanish (pred):  ayudame a tom\n",
      "-\n",
      "English:        help me out\n",
      "Spanish (true):  ayudame a salir\n",
      "Spanish (pred):  ayudame a tom\n",
      "-\n",
      "English:        here i come\n",
      "Spanish (true):  aqui vengo\n",
      "Spanish (pred):  aqui vienes\n",
      "-\n",
      "English:        here i come\n",
      "Spanish (true):  ya estoy aqui\n",
      "Spanish (pred):  aqui vienes\n",
      "-\n",
      "English:        here she is\n",
      "Spanish (true):  aqui esta ella\n",
      "Spanish (pred):  toma esta el casa\n",
      "-\n",
      "English:        here we are\n",
      "Spanish (true):  aqui estamos\n",
      "Spanish (pred):  aqui estamos\n",
      "-\n",
      "English:        here we are\n",
      "Spanish (true):  aqui estamos\n",
      "Spanish (pred):  aqui estamos\n",
      "-\n",
      "English:        hi im tom\n",
      "Spanish (true):  hola soy tom\n",
      "Spanish (pred):  hola es tom\n",
      "-\n",
      "English:        hit it hard\n",
      "Spanish (true):  dele fuerte\n",
      "Spanish (pred):  como esta el casa\n",
      "-\n",
      "English:        how are you\n",
      "Spanish (true):  como estas vos\n",
      "Spanish (pred):  como estas tom\n",
      "-\n",
      "English:        how curious\n",
      "Spanish (true):  que curioso\n",
      "Spanish (pred):  que tan triste\n",
      "-\n",
      "English:        how strange\n",
      "Spanish (true):  que raro\n",
      "Spanish (pred):  que har eriste\n",
      "-\n",
      "English:        how strange\n",
      "Spanish (true):  que raro\n",
      "Spanish (pred):  que har eriste\n"
     ]
    }
   ],
   "source": [
    "for seq_index in range(2100, 2120):\n",
    "    # Take one sequence (part of the training set)\n",
    "    # for trying out decoding.\n",
    "    input_seq = encoder_input_data[seq_index: seq_index + 1]\n",
    "    decoded_sentence = decode_sequence(input_seq)\n",
    "    print('-')\n",
    "    print('English:       ', input_texts[seq_index])\n",
    "    print('Spanish (true): ', target_texts[seq_index][1:-1])\n",
    "    print('Spanish (pred): ', decoded_sentence[0:-1])\n"
   ]
  },
  {
   "cell_type": "markdown",
   "metadata": {
    "id": "PwGL3heRvP36"
   },
   "source": [
    "### 4.2. Translate an English sentence to the target language （20 points）\n",
    "\n",
    "1. Tokenization\n",
    "2. One-hot encode\n",
    "3. Translate"
   ]
  },
  {
   "cell_type": "code",
   "execution_count": 51,
   "metadata": {
    "colab": {
     "base_uri": "https://localhost:8080/"
    },
    "id": "0z0ULnr4vP38",
    "outputId": "06588ded-d5ce-4f87-e898-5c0449ae251c"
   },
   "outputs": [
    {
     "name": "stdout",
     "output_type": "stream",
     "text": [
      "source sentence is: I love you\n",
      "translated sentence is: tom es a aqui\n",
      "\n"
     ]
    }
   ],
   "source": [
    "input_sentence = 'I love you'\n",
    "\n",
    "input_sequence, _ = text2sequences(max_encoder_seq_length, [input_sentence])\n",
    "\n",
    "input_x = onehot_encode(input_sequence, max_encoder_seq_length, num_encoder_tokens)\n",
    "\n",
    "translated_sentence = decode_sequence(input_x)\n",
    "\n",
    "print('source sentence is: ' + input_sentence)\n",
    "print('translated sentence is: ' + translated_sentence)"
   ]
  },
  {
   "cell_type": "markdown",
   "metadata": {
    "id": "ACwqjZLmvP3_"
   },
   "source": [
    "# 5. Evaluate the translation using BLEU score\n",
    "\n",
    "- We have already translated from English to target language, but how can we evaluate the performance of our model quantitatively? \n",
    "\n",
    "- In this section, you need to re-train the model we built in secton 3 and then evaluate the bleu score on testing dataset.\n",
    "\n",
    "Reference:\n",
    "\n",
    "https://machinelearningmastery.com/calculate-bleu-score-for-text-python/\n",
    "\n",
    "https://en.wikipedia.org/wiki/BLEU\n",
    "\n",
    "#### Hint:\n",
    "- You may use packages to calculate bleu score, e.g., sentence_bleu() from nltk package."
   ]
  },
  {
   "cell_type": "markdown",
   "metadata": {
    "id": "9THAG16mIOoO"
   },
   "source": [
    "- Randomly partition the dataset to training, validation, and test."
   ]
  },
  {
   "cell_type": "code",
   "execution_count": 67,
   "metadata": {
    "colab": {
     "base_uri": "https://localhost:8080/"
    },
    "id": "HvpG15rSvP4A",
    "outputId": "2470160c-c229-4d20-c282-cece2e92b2b4"
   },
   "outputs": [
    {
     "name": "stdout",
     "output_type": "stream",
     "text": [
      "Length of x_train:  (404,)\n",
      "Length of x_test: (101,)\n",
      "Length of y_train:  404\n",
      "Length of y_test: 101\n",
      "['shut up' 'got it' 'marry me' 'run']\n",
      "['\\tcerra el pico\\n', '\\tentendiste\\n', '\\tcasate conmigo\\n', '\\tcorran\\n']\n"
     ]
    }
   ],
   "source": [
    "clean_pairs = clean_data(pairs)[0:505, :]\n",
    "input_texts = clean_pairs[:, 0]\n",
    "target_texts = ['\\t' + text + '\\n' for text in clean_pairs[:, 1]]\n",
    "\n",
    "x_train, x_test, y_train, y_test = train_test_split(input_texts, target_texts, test_size = 0.2, random_state = 0)\n",
    "\n",
    "print('Length of x_train:  ' + str(x_train.shape))\n",
    "print('Length of x_test: ' + str(x_test.shape))\n",
    "\n",
    "print('Length of y_train:  ' + str(len(y_train)))\n",
    "print('Length of y_test: ' + str(len(y_test)))\n",
    "\n",
    "print(x_train[:4])\n",
    "print(y_train[:4])"
   ]
  },
  {
   "cell_type": "code",
   "execution_count": 68,
   "metadata": {
    "colab": {
     "base_uri": "https://localhost:8080/"
    },
    "id": "i9VPWsWjvP4A",
    "outputId": "9ad60b8a-6ffc-4a6b-8cd6-dbc037d0f945"
   },
   "outputs": [
    {
     "name": "stdout",
     "output_type": "stream",
     "text": [
      "Length of x_tr:  (323,)\n",
      "Length of x_val: (81,)\n",
      "Length of y_tr:  323\n",
      "Length of y_val: 81\n",
      "['i froze' 'wow' 'sit down' 'lock it']\n",
      "['\\tme congele\\n', '\\torale\\n', '\\tsientate\\n', '\\techa el cerrojo\\n']\n"
     ]
    }
   ],
   "source": [
    "x_tr, x_val, y_tr, y_val = train_test_split(x_train, y_train, test_size = 0.2, random_state = 0)\n",
    "\n",
    "print('Length of x_tr:  ' + str(x_tr.shape))\n",
    "print('Length of x_val: ' + str(x_val.shape))\n",
    "\n",
    "print('Length of y_tr:  ' + str(len(y_tr)))\n",
    "print('Length of y_val: ' + str(len(y_val)))\n",
    "\n",
    "print(x_tr[:4])\n",
    "print(y_tr[:4])"
   ]
  },
  {
   "cell_type": "markdown",
   "metadata": {
    "id": "zit73eiIIZqj"
   },
   "source": [
    "\n",
    "- Evaluate the BLEU score using the test set. Report the average."
   ]
  },
  {
   "cell_type": "code",
   "execution_count": 76,
   "metadata": {
    "colab": {
     "base_uri": "https://localhost:8080/"
    },
    "id": "CUGLBqwYExCd",
    "outputId": "1e5d7a4b-c330-48a1-ecc4-37464df2fa75"
   },
   "outputs": [
    {
     "name": "stdout",
     "output_type": "stream",
     "text": [
      "Average BLEU Score using the test set: 0.37561807821478904\n"
     ]
    }
   ],
   "source": [
    "score = 0;\n",
    "for i, sentence in enumerate(x_test):\n",
    "  input_sequence, _ = text2sequences(max_encoder_seq_length, [sentence])\n",
    "  input_x = onehot_encode(input_sequence, max_encoder_seq_length, num_encoder_tokens)\n",
    "  translated_sentence = decode_sequence(input_x)\n",
    "  score += sentence_bleu(translated_sentence,y_test[i],[1])\n",
    "  # print(\"Sentence:\", sentence, \"Translation:\", translated_sentence, \"True:\", y_test[i], \"Score:\", sentence_bleu(translated_sentence,y_test[i],[1]))\n",
    "score /= len(x_test)\n",
    "print(\"Average BLEU Score using the test set:\", score)"
   ]
  },
  {
   "cell_type": "markdown",
   "metadata": {
    "id": "ruUUT53TvP3_"
   },
   "source": [
    "### 5.1. Partition the dataset to training, validation, and test. Build new token index. (10 points)\n",
    "\n",
    "1. You may try to load more data/lines from text file.\n",
    "2. Convert text to sequences and build token index using training data.\n",
    "3. One-hot encode your training and validation text sequences."
   ]
  },
  {
   "cell_type": "code",
   "execution_count": 85,
   "metadata": {
    "colab": {
     "base_uri": "https://localhost:8080/"
    },
    "id": "j4NJTzgpMvlk",
    "outputId": "e3357cc7-bb1b-4c81-d754-b4741132bfc0"
   },
   "outputs": [
    {
     "name": "stdout",
     "output_type": "stream",
     "text": [
      "shape of x_tr_encoder_input_seq: (323, 18)\n",
      "shape of new_token_index: 27\n",
      "shape of x_tr_input_data: (323, 18, 28)\n",
      "shape of x_val_encoder_input_seq: (81, 18)\n",
      "shape of new_token_index: 27\n",
      "shape of x_val_input_data: (81, 18, 28)\n"
     ]
    }
   ],
   "source": [
    "x_tr_encoder_input_seq, new_input_token_index = text2sequences(max_encoder_seq_length, x_tr)\n",
    "y_tr_decoder_input_seq, new_target_token_index = text2sequences(max_decoder_seq_length, y_tr)\n",
    "\n",
    "x_tr_input_data = onehot_encode(x_tr_encoder_input_seq, max_encoder_seq_length, num_encoder_tokens)\n",
    "y_tr_input_data = onehot_encode(y_tr_decoder_input_seq, max_decoder_seq_length, num_decoder_tokens)\n",
    "\n",
    "x_val_encoder_input_seq, _ = text2sequences(max_encoder_seq_length, x_val)\n",
    "x_val_input_data = onehot_encode(x_val_encoder_input_seq, max_encoder_seq_length, num_encoder_tokens)\n",
    "y_val_decoder_input_seq, _ = text2sequences(max_decoder_seq_length, y_val)\n",
    "y_val_input_data = onehot_encode(y_val_decoder_input_seq, max_decoder_seq_length, num_decoder_tokens)\n",
    "\n",
    "y_tr_decoder_target_seq = numpy.zeros(y_tr_decoder_input_seq.shape)\n",
    "y_tr_decoder_target_seq[:, 0:-1] = y_tr_decoder_input_seq[:, 1:]\n",
    "y_tr_decoder_target_data = onehot_encode(y_tr_decoder_target_seq, \n",
    "                                    max_decoder_seq_length, \n",
    "                                    num_decoder_tokens)\n",
    "\n",
    "print('shape of x_tr_encoder_input_seq: ' + str(x_tr_encoder_input_seq.shape))\n",
    "print('shape of new_token_index: ' + str(len(new_input_token_index)))\n",
    "print('shape of x_tr_input_data: ' + str(x_tr_input_data.shape))\n",
    "\n",
    "print('shape of x_val_encoder_input_seq: ' + str(x_val_encoder_input_seq.shape))\n",
    "print('shape of new_token_index: ' + str(len(new_input_token_index)))\n",
    "print('shape of x_val_input_data: ' + str(x_val_input_data.shape))\n",
    "\n",
    "# print('shape of decoder_input_seq: ' + str(decoder_input_seq.shape))\n",
    "# print('shape of target_token_index: ' + str(len(target_token_index)))"
   ]
  },
  {
   "cell_type": "markdown",
   "metadata": {
    "id": "RjCh7KcFvP4A"
   },
   "source": [
    "### 5.2 Retrain your previous Bidirectional LSTM model with training and validation data and tune the parameters (learning rate, optimizer, etc) based on validation score. (25 points)\n",
    "\n",
    "1. Use the model structure in section 3 to train a new model with new training and validation datasets.\n",
    "2. Based on validation BLEU score or loss to tune parameters."
   ]
  },
  {
   "cell_type": "code",
   "execution_count": 86,
   "metadata": {
    "colab": {
     "base_uri": "https://localhost:8080/"
    },
    "id": "IQl5nem3VpzV",
    "outputId": "9519a5b1-9d07-4366-f640-7b1e93ba6b84"
   },
   "outputs": [
    {
     "name": "stdout",
     "output_type": "stream",
     "text": [
      "Epoch 1/50\n",
      "5/5 [==============================] - 11s 396ms/step - loss: 1.1318 - val_loss: 1.2431\n",
      "Epoch 2/50\n",
      "5/5 [==============================] - 0s 78ms/step - loss: 0.7960 - val_loss: 0.8759\n",
      "Epoch 3/50\n",
      "5/5 [==============================] - 0s 77ms/step - loss: 0.6939 - val_loss: 0.9340\n",
      "Epoch 4/50\n",
      "5/5 [==============================] - 0s 76ms/step - loss: 0.6699 - val_loss: 0.7636\n",
      "Epoch 5/50\n",
      "5/5 [==============================] - 0s 76ms/step - loss: 0.6279 - val_loss: 0.7624\n",
      "Epoch 6/50\n",
      "5/5 [==============================] - 0s 75ms/step - loss: 0.6229 - val_loss: 0.8648\n",
      "Epoch 7/50\n",
      "5/5 [==============================] - 0s 78ms/step - loss: 0.6535 - val_loss: 0.7908\n",
      "Epoch 8/50\n",
      "5/5 [==============================] - 0s 75ms/step - loss: 0.6161 - val_loss: 0.7404\n",
      "Epoch 9/50\n",
      "5/5 [==============================] - 0s 79ms/step - loss: 0.6016 - val_loss: 0.7645\n",
      "Epoch 10/50\n",
      "5/5 [==============================] - 0s 79ms/step - loss: 0.6226 - val_loss: 0.7753\n",
      "Epoch 11/50\n",
      "5/5 [==============================] - 0s 75ms/step - loss: 0.5924 - val_loss: 0.7664\n",
      "Epoch 12/50\n",
      "5/5 [==============================] - 0s 76ms/step - loss: 0.5896 - val_loss: 0.8188\n",
      "Epoch 13/50\n",
      "5/5 [==============================] - 0s 76ms/step - loss: 0.5907 - val_loss: 0.9624\n",
      "Epoch 14/50\n",
      "5/5 [==============================] - 0s 78ms/step - loss: 0.6058 - val_loss: 0.7525\n",
      "Epoch 15/50\n",
      "5/5 [==============================] - 0s 77ms/step - loss: 0.5909 - val_loss: 0.8029\n",
      "Epoch 16/50\n",
      "5/5 [==============================] - 0s 75ms/step - loss: 0.6093 - val_loss: 0.7552\n",
      "Epoch 17/50\n",
      "5/5 [==============================] - 0s 79ms/step - loss: 0.5800 - val_loss: 0.8681\n",
      "Epoch 18/50\n",
      "5/5 [==============================] - 0s 75ms/step - loss: 0.5769 - val_loss: 0.9285\n",
      "Epoch 19/50\n",
      "5/5 [==============================] - 0s 78ms/step - loss: 0.6417 - val_loss: 0.7498\n",
      "Epoch 20/50\n",
      "5/5 [==============================] - 0s 77ms/step - loss: 0.5684 - val_loss: 0.7693\n",
      "Epoch 21/50\n",
      "5/5 [==============================] - 0s 78ms/step - loss: 0.5621 - val_loss: 0.7954\n",
      "Epoch 22/50\n",
      "5/5 [==============================] - 0s 77ms/step - loss: 0.5655 - val_loss: 0.7634\n",
      "Epoch 23/50\n",
      "5/5 [==============================] - 0s 75ms/step - loss: 0.5689 - val_loss: 0.8218\n",
      "Epoch 24/50\n",
      "5/5 [==============================] - 0s 76ms/step - loss: 0.5645 - val_loss: 0.7517\n",
      "Epoch 25/50\n",
      "5/5 [==============================] - 0s 76ms/step - loss: 0.5689 - val_loss: 0.7746\n",
      "Epoch 26/50\n",
      "5/5 [==============================] - 0s 77ms/step - loss: 0.5526 - val_loss: 0.8643\n",
      "Epoch 27/50\n",
      "5/5 [==============================] - 0s 75ms/step - loss: 0.5984 - val_loss: 0.7928\n",
      "Epoch 28/50\n",
      "5/5 [==============================] - 0s 79ms/step - loss: 0.5479 - val_loss: 0.7710\n",
      "Epoch 29/50\n",
      "5/5 [==============================] - 0s 75ms/step - loss: 0.5536 - val_loss: 0.8264\n",
      "Epoch 30/50\n",
      "5/5 [==============================] - 0s 85ms/step - loss: 0.5526 - val_loss: 0.7659\n",
      "Epoch 31/50\n",
      "5/5 [==============================] - 0s 78ms/step - loss: 0.5509 - val_loss: 0.7945\n",
      "Epoch 32/50\n",
      "5/5 [==============================] - 0s 77ms/step - loss: 0.5461 - val_loss: 0.8374\n",
      "Epoch 33/50\n",
      "5/5 [==============================] - 0s 76ms/step - loss: 0.5462 - val_loss: 0.8527\n",
      "Epoch 34/50\n",
      "5/5 [==============================] - 0s 75ms/step - loss: 0.5463 - val_loss: 0.8403\n",
      "Epoch 35/50\n",
      "5/5 [==============================] - 0s 78ms/step - loss: 0.5337 - val_loss: 0.7690\n",
      "Epoch 36/50\n",
      "5/5 [==============================] - 0s 77ms/step - loss: 0.5412 - val_loss: 0.8913\n",
      "Epoch 37/50\n",
      "5/5 [==============================] - 0s 76ms/step - loss: 0.5412 - val_loss: 0.9265\n",
      "Epoch 38/50\n",
      "5/5 [==============================] - 0s 80ms/step - loss: 0.5326 - val_loss: 0.9015\n",
      "Epoch 39/50\n",
      "5/5 [==============================] - 0s 75ms/step - loss: 0.5326 - val_loss: 0.8046\n",
      "Epoch 40/50\n",
      "5/5 [==============================] - 0s 77ms/step - loss: 0.5318 - val_loss: 0.8450\n",
      "Epoch 41/50\n",
      "5/5 [==============================] - 0s 78ms/step - loss: 0.5303 - val_loss: 0.8098\n",
      "Epoch 42/50\n",
      "5/5 [==============================] - 0s 79ms/step - loss: 0.5435 - val_loss: 0.8453\n",
      "Epoch 43/50\n",
      "5/5 [==============================] - 0s 78ms/step - loss: 0.5171 - val_loss: 0.8580\n",
      "Epoch 44/50\n",
      "5/5 [==============================] - 0s 79ms/step - loss: 0.5146 - val_loss: 0.8061\n",
      "Epoch 45/50\n",
      "5/5 [==============================] - 0s 78ms/step - loss: 0.5237 - val_loss: 0.9115\n",
      "Epoch 46/50\n",
      "5/5 [==============================] - 0s 79ms/step - loss: 0.5167 - val_loss: 0.8875\n",
      "Epoch 47/50\n",
      "5/5 [==============================] - 0s 84ms/step - loss: 0.5079 - val_loss: 0.8116\n",
      "Epoch 48/50\n",
      "5/5 [==============================] - 0s 77ms/step - loss: 0.5157 - val_loss: 0.8227\n",
      "Epoch 49/50\n",
      "5/5 [==============================] - 0s 77ms/step - loss: 0.5160 - val_loss: 0.9474\n",
      "Epoch 50/50\n",
      "5/5 [==============================] - 0s 76ms/step - loss: 0.5121 - val_loss: 0.9568\n"
     ]
    }
   ],
   "source": [
    "model.compile(optimizer='rmsprop', loss='categorical_crossentropy')\n",
    "\n",
    "model.fit([x_tr_input_data, y_tr_input_data],  # training data\n",
    "          decoder_target_data,                       # labels (left shift of the target sequences)\n",
    "          validation_data=(x_val_input_data, y_val_input_data),\n",
    "          batch_size=64, epochs=50, validation_split=0.2)\n",
    "\n",
    "model.save('seq2seq.h5')"
   ]
  },
  {
   "cell_type": "markdown",
   "metadata": {
    "id": "LQtUcOsWvP4A"
   },
   "source": [
    "### 5.3 Evaluate the BLEU score using the test set. (15 points)\n",
    "\n",
    "1. Use trained model above to calculate the BLEU score with testing dataset."
   ]
  },
  {
   "cell_type": "code",
   "execution_count": null,
   "metadata": {
    "id": "5OCJ3uAdvP4A"
   },
   "outputs": [],
   "source": []
  }
 ],
 "metadata": {
  "accelerator": "GPU",
  "colab": {
   "collapsed_sections": [],
   "name": "Assignment3.ipynb",
   "provenance": []
  },
  "kernelspec": {
   "display_name": "Python 3 (ipykernel)",
   "language": "python",
   "name": "python3"
  },
  "language_info": {
   "codemirror_mode": {
    "name": "ipython",
    "version": 3
   },
   "file_extension": ".py",
   "mimetype": "text/x-python",
   "name": "python",
   "nbconvert_exporter": "python",
   "pygments_lexer": "ipython3",
   "version": "3.9.5"
  }
 },
 "nbformat": 4,
 "nbformat_minor": 1
}
